{
 "cells": [
  {
   "cell_type": "markdown",
   "metadata": {},
   "source": [
    "### Importing all of the data into dataframes"
   ]
  },
  {
   "cell_type": "code",
   "execution_count": 2,
   "metadata": {},
   "outputs": [],
   "source": [
    "import pandas as pd\n",
    "import numpy as np"
   ]
  },
  {
   "cell_type": "code",
   "execution_count": 3,
   "metadata": {},
   "outputs": [],
   "source": [
    "albumCols = ['AlbumID', 'ArtistID', 'GenreID_1', 'GenreID_2', 'GenreID_3', 'GenreID_4', 'GenreID_5', 'GenreID_6', 'GenreID_7', 'GenreID_8', 'GenreID_9', 'GenreID_10', 'GenreID_11', 'GenreID_12', 'GenreID_13', 'GenreID_14', 'GenreID_15', 'GenreID_16', 'GenreID_17', 'GenreID_18', 'GenreID_19', 'GenreID_20', 'GenreID_21']\n",
    "\n",
    "albumData = pd.read_csv('./ee627ws-2020fall/albumData2.txt', \n",
    "                        sep='|',\n",
    "                        names=albumCols,\n",
    "                        engine='python', \n",
    "                        na_values=['None'],\n",
    "                        header=None)"
   ]
  },
  {
   "cell_type": "markdown",
   "metadata": {
    "variables": {
     " albumData ": "<div>\n<style scoped>\n    .dataframe tbody tr th:only-of-type {\n        vertical-align: middle;\n    }\n\n    .dataframe tbody tr th {\n        vertical-align: top;\n    }\n\n    .dataframe thead th {\n        text-align: right;\n    }\n</style>\n<table border=\"1\" class=\"dataframe\">\n  <thead>\n    <tr style=\"text-align: right;\">\n      <th></th>\n      <th>AlbumID</th>\n      <th>ArtistID</th>\n      <th>GenreID_1</th>\n      <th>GenreID_2</th>\n      <th>GenreID_3</th>\n      <th>GenreID_4</th>\n      <th>GenreID_5</th>\n      <th>GenreID_6</th>\n      <th>GenreID_7</th>\n      <th>GenreID_8</th>\n      <th>...</th>\n      <th>GenreID_12</th>\n      <th>GenreID_13</th>\n      <th>GenreID_14</th>\n      <th>GenreID_15</th>\n      <th>GenreID_16</th>\n      <th>GenreID_17</th>\n      <th>GenreID_18</th>\n      <th>GenreID_19</th>\n      <th>GenreID_20</th>\n      <th>GenreID_21</th>\n    </tr>\n  </thead>\n  <tbody>\n    <tr>\n      <th>0</th>\n      <td>0</td>\n      <td>NaN</td>\n      <td>214765.0</td>\n      <td>NaN</td>\n      <td>NaN</td>\n      <td>NaN</td>\n      <td>NaN</td>\n      <td>NaN</td>\n      <td>NaN</td>\n      <td>NaN</td>\n      <td>...</td>\n      <td>NaN</td>\n      <td>NaN</td>\n      <td>NaN</td>\n      <td>NaN</td>\n      <td>NaN</td>\n      <td>NaN</td>\n      <td>NaN</td>\n      <td>NaN</td>\n      <td>NaN</td>\n      <td>NaN</td>\n    </tr>\n    <tr>\n      <th>1</th>\n      <td>6</td>\n      <td>228091.0</td>\n      <td>158282.0</td>\n      <td>81520.0</td>\n      <td>242383.0</td>\n      <td>NaN</td>\n      <td>NaN</td>\n      <td>NaN</td>\n      <td>NaN</td>\n      <td>NaN</td>\n      <td>...</td>\n      <td>NaN</td>\n      <td>NaN</td>\n      <td>NaN</td>\n      <td>NaN</td>\n      <td>NaN</td>\n      <td>NaN</td>\n      <td>NaN</td>\n      <td>NaN</td>\n      <td>NaN</td>\n      <td>NaN</td>\n    </tr>\n    <tr>\n      <th>2</th>\n      <td>19</td>\n      <td>85028.0</td>\n      <td>103715.0</td>\n      <td>NaN</td>\n      <td>NaN</td>\n      <td>NaN</td>\n      <td>NaN</td>\n      <td>NaN</td>\n      <td>NaN</td>\n      <td>NaN</td>\n      <td>...</td>\n      <td>NaN</td>\n      <td>NaN</td>\n      <td>NaN</td>\n      <td>NaN</td>\n      <td>NaN</td>\n      <td>NaN</td>\n      <td>NaN</td>\n      <td>NaN</td>\n      <td>NaN</td>\n      <td>NaN</td>\n    </tr>\n    <tr>\n      <th>3</th>\n      <td>30</td>\n      <td>16832.0</td>\n      <td>31567.0</td>\n      <td>NaN</td>\n      <td>NaN</td>\n      <td>NaN</td>\n      <td>NaN</td>\n      <td>NaN</td>\n      <td>NaN</td>\n      <td>NaN</td>\n      <td>...</td>\n      <td>NaN</td>\n      <td>NaN</td>\n      <td>NaN</td>\n      <td>NaN</td>\n      <td>NaN</td>\n      <td>NaN</td>\n      <td>NaN</td>\n      <td>NaN</td>\n      <td>NaN</td>\n      <td>NaN</td>\n    </tr>\n    <tr>\n      <th>4</th>\n      <td>33</td>\n      <td>26330.0</td>\n      <td>149962.0</td>\n      <td>209270.0</td>\n      <td>NaN</td>\n      <td>NaN</td>\n      <td>NaN</td>\n      <td>NaN</td>\n      <td>NaN</td>\n      <td>NaN</td>\n      <td>...</td>\n      <td>NaN</td>\n      <td>NaN</td>\n      <td>NaN</td>\n      <td>NaN</td>\n      <td>NaN</td>\n      <td>NaN</td>\n      <td>NaN</td>\n      <td>NaN</td>\n      <td>NaN</td>\n      <td>NaN</td>\n    </tr>\n    <tr>\n      <th>...</th>\n      <td>...</td>\n      <td>...</td>\n      <td>...</td>\n      <td>...</td>\n      <td>...</td>\n      <td>...</td>\n      <td>...</td>\n      <td>...</td>\n      <td>...</td>\n      <td>...</td>\n      <td>...</td>\n      <td>...</td>\n      <td>...</td>\n      <td>...</td>\n      <td>...</td>\n      <td>...</td>\n      <td>...</td>\n      <td>...</td>\n      <td>...</td>\n      <td>...</td>\n      <td>...</td>\n    </tr>\n    <tr>\n      <th>52824</th>\n      <td>296104</td>\n      <td>125866.0</td>\n      <td>158282.0</td>\n      <td>NaN</td>\n      <td>NaN</td>\n      <td>NaN</td>\n      <td>NaN</td>\n      <td>NaN</td>\n      <td>NaN</td>\n      <td>NaN</td>\n      <td>...</td>\n      <td>NaN</td>\n      <td>NaN</td>\n      <td>NaN</td>\n      <td>NaN</td>\n      <td>NaN</td>\n      <td>NaN</td>\n      <td>NaN</td>\n      <td>NaN</td>\n      <td>NaN</td>\n      <td>NaN</td>\n    </tr>\n    <tr>\n      <th>52825</th>\n      <td>296106</td>\n      <td>221637.0</td>\n      <td>116130.0</td>\n      <td>9432.0</td>\n      <td>NaN</td>\n      <td>NaN</td>\n      <td>NaN</td>\n      <td>NaN</td>\n      <td>NaN</td>\n      <td>NaN</td>\n      <td>...</td>\n      <td>NaN</td>\n      <td>NaN</td>\n      <td>NaN</td>\n      <td>NaN</td>\n      <td>NaN</td>\n      <td>NaN</td>\n      <td>NaN</td>\n      <td>NaN</td>\n      <td>NaN</td>\n      <td>NaN</td>\n    </tr>\n    <tr>\n      <th>52826</th>\n      <td>296107</td>\n      <td>NaN</td>\n      <td>61215.0</td>\n      <td>NaN</td>\n      <td>NaN</td>\n      <td>NaN</td>\n      <td>NaN</td>\n      <td>NaN</td>\n      <td>NaN</td>\n      <td>NaN</td>\n      <td>...</td>\n      <td>NaN</td>\n      <td>NaN</td>\n      <td>NaN</td>\n      <td>NaN</td>\n      <td>NaN</td>\n      <td>NaN</td>\n      <td>NaN</td>\n      <td>NaN</td>\n      <td>NaN</td>\n      <td>NaN</td>\n    </tr>\n    <tr>\n      <th>52827</th>\n      <td>296108</td>\n      <td>93277.0</td>\n      <td>61215.0</td>\n      <td>NaN</td>\n      <td>NaN</td>\n      <td>NaN</td>\n      <td>NaN</td>\n      <td>NaN</td>\n      <td>NaN</td>\n      <td>NaN</td>\n      <td>...</td>\n      <td>NaN</td>\n      <td>NaN</td>\n      <td>NaN</td>\n      <td>NaN</td>\n      <td>NaN</td>\n      <td>NaN</td>\n      <td>NaN</td>\n      <td>NaN</td>\n      <td>NaN</td>\n      <td>NaN</td>\n    </tr>\n    <tr>\n      <th>52828</th>\n      <td>296109</td>\n      <td>84885.0</td>\n      <td>287681.0</td>\n      <td>NaN</td>\n      <td>NaN</td>\n      <td>NaN</td>\n      <td>NaN</td>\n      <td>NaN</td>\n      <td>NaN</td>\n      <td>NaN</td>\n      <td>...</td>\n      <td>NaN</td>\n      <td>NaN</td>\n      <td>NaN</td>\n      <td>NaN</td>\n      <td>NaN</td>\n      <td>NaN</td>\n      <td>NaN</td>\n      <td>NaN</td>\n      <td>NaN</td>\n      <td>NaN</td>\n    </tr>\n  </tbody>\n</table>\n<p>52829 rows × 23 columns</p>\n</div>"
    }
   },
   "source": [
    "{{ albumData }}"
   ]
  },
  {
   "cell_type": "code",
   "execution_count": 4,
   "metadata": {},
   "outputs": [],
   "source": [
    "artistCols = ['ArtistID']\n",
    "artistData = pd.read_csv('./ee627ws-2020fall/artistData2.txt',\n",
    "                         names=artistCols, \n",
    "                         engine='python')"
   ]
  },
  {
   "cell_type": "markdown",
   "metadata": {
    "variables": {
     " artistData ": "<div>\n<style scoped>\n    .dataframe tbody tr th:only-of-type {\n        vertical-align: middle;\n    }\n\n    .dataframe tbody tr th {\n        vertical-align: top;\n    }\n\n    .dataframe thead th {\n        text-align: right;\n    }\n</style>\n<table border=\"1\" class=\"dataframe\">\n  <thead>\n    <tr style=\"text-align: right;\">\n      <th></th>\n      <th>ArtistID</th>\n    </tr>\n  </thead>\n  <tbody>\n    <tr>\n      <th>0</th>\n      <td>16</td>\n    </tr>\n    <tr>\n      <th>1</th>\n      <td>23</td>\n    </tr>\n    <tr>\n      <th>2</th>\n      <td>35</td>\n    </tr>\n    <tr>\n      <th>3</th>\n      <td>40</td>\n    </tr>\n    <tr>\n      <th>4</th>\n      <td>49</td>\n    </tr>\n    <tr>\n      <th>...</th>\n      <td>...</td>\n    </tr>\n    <tr>\n      <th>18669</th>\n      <td>295987</td>\n    </tr>\n    <tr>\n      <th>18670</th>\n      <td>296007</td>\n    </tr>\n    <tr>\n      <th>18671</th>\n      <td>296012</td>\n    </tr>\n    <tr>\n      <th>18672</th>\n      <td>296013</td>\n    </tr>\n    <tr>\n      <th>18673</th>\n      <td>296041</td>\n    </tr>\n  </tbody>\n</table>\n<p>18674 rows × 1 columns</p>\n</div>"
    }
   },
   "source": [
    "{{ artistData }}"
   ]
  },
  {
   "cell_type": "code",
   "execution_count": 5,
   "metadata": {},
   "outputs": [],
   "source": [
    "genreCols = ['GenreID']\n",
    "genreData = pd.read_csv('./ee627ws-2020fall/genreData2.txt',\n",
    "                         names=genreCols, \n",
    "                         engine='python')"
   ]
  },
  {
   "cell_type": "markdown",
   "metadata": {
    "variables": {
     " genreData ": "<div>\n<style scoped>\n    .dataframe tbody tr th:only-of-type {\n        vertical-align: middle;\n    }\n\n    .dataframe tbody tr th {\n        vertical-align: top;\n    }\n\n    .dataframe thead th {\n        text-align: right;\n    }\n</style>\n<table border=\"1\" class=\"dataframe\">\n  <thead>\n    <tr style=\"text-align: right;\">\n      <th></th>\n      <th>GenreID</th>\n    </tr>\n  </thead>\n  <tbody>\n    <tr>\n      <th>0</th>\n      <td>208</td>\n    </tr>\n    <tr>\n      <th>1</th>\n      <td>315</td>\n    </tr>\n    <tr>\n      <th>2</th>\n      <td>642</td>\n    </tr>\n    <tr>\n      <th>3</th>\n      <td>1075</td>\n    </tr>\n    <tr>\n      <th>4</th>\n      <td>1271</td>\n    </tr>\n    <tr>\n      <th>...</th>\n      <td>...</td>\n    </tr>\n    <tr>\n      <th>562</th>\n      <td>292093</td>\n    </tr>\n    <tr>\n      <th>563</th>\n      <td>293670</td>\n    </tr>\n    <tr>\n      <th>564</th>\n      <td>293688</td>\n    </tr>\n    <tr>\n      <th>565</th>\n      <td>294138</td>\n    </tr>\n    <tr>\n      <th>566</th>\n      <td>294310</td>\n    </tr>\n  </tbody>\n</table>\n<p>567 rows × 1 columns</p>\n</div>"
    }
   },
   "source": [
    "{{ genreData }}"
   ]
  },
  {
   "cell_type": "code",
   "execution_count": 6,
   "metadata": {},
   "outputs": [],
   "source": [
    "trackCols = ['TrackID', 'AlbumID', 'ArtistID', 'GenreID_1', 'GenreID_2', 'GenreID_3', 'GenreID_4', 'GenreID_5', 'GenreID_6', 'GenreID_7', 'GenreID_8', 'GenreID_9', 'GenreID_10', 'GenreID_11', 'GenreID_12', 'GenreID_13', 'GenreID_14', 'GenreID_15', 'GenreID_16', 'GenreID_17', 'GenreID_18', 'GenreID_19', 'GenreID_20', 'GenreID_21']\n",
    "trackData = pd.read_csv('./ee627ws-2020fall/trackData2.txt', \n",
    "                        sep='|',\n",
    "                        names=trackCols,\n",
    "                        engine='python', \n",
    "                        na_values=['None'],\n",
    "                        header=None)"
   ]
  },
  {
   "cell_type": "markdown",
   "metadata": {
    "variables": {
     " trackData ": "<div>\n<style scoped>\n    .dataframe tbody tr th:only-of-type {\n        vertical-align: middle;\n    }\n\n    .dataframe tbody tr th {\n        vertical-align: top;\n    }\n\n    .dataframe thead th {\n        text-align: right;\n    }\n</style>\n<table border=\"1\" class=\"dataframe\">\n  <thead>\n    <tr style=\"text-align: right;\">\n      <th></th>\n      <th>TrackID</th>\n      <th>AlbumID</th>\n      <th>ArtistID</th>\n      <th>GenreID_1</th>\n      <th>GenreID_2</th>\n      <th>GenreID_3</th>\n      <th>GenreID_4</th>\n      <th>GenreID_5</th>\n      <th>GenreID_6</th>\n      <th>GenreID_7</th>\n      <th>...</th>\n      <th>GenreID_12</th>\n      <th>GenreID_13</th>\n      <th>GenreID_14</th>\n      <th>GenreID_15</th>\n      <th>GenreID_16</th>\n      <th>GenreID_17</th>\n      <th>GenreID_18</th>\n      <th>GenreID_19</th>\n      <th>GenreID_20</th>\n      <th>GenreID_21</th>\n    </tr>\n  </thead>\n  <tbody>\n    <tr>\n      <th>0</th>\n      <td>1</td>\n      <td>106710.0</td>\n      <td>281667.0</td>\n      <td>214765.0</td>\n      <td>162234.0</td>\n      <td>155788.0</td>\n      <td>NaN</td>\n      <td>NaN</td>\n      <td>NaN</td>\n      <td>NaN</td>\n      <td>...</td>\n      <td>NaN</td>\n      <td>NaN</td>\n      <td>NaN</td>\n      <td>NaN</td>\n      <td>NaN</td>\n      <td>NaN</td>\n      <td>NaN</td>\n      <td>NaN</td>\n      <td>NaN</td>\n      <td>NaN</td>\n    </tr>\n    <tr>\n      <th>1</th>\n      <td>2</td>\n      <td>280977.0</td>\n      <td>233685.0</td>\n      <td>131552.0</td>\n      <td>173467.0</td>\n      <td>48505.0</td>\n      <td>NaN</td>\n      <td>NaN</td>\n      <td>NaN</td>\n      <td>NaN</td>\n      <td>...</td>\n      <td>NaN</td>\n      <td>NaN</td>\n      <td>NaN</td>\n      <td>NaN</td>\n      <td>NaN</td>\n      <td>NaN</td>\n      <td>NaN</td>\n      <td>NaN</td>\n      <td>NaN</td>\n      <td>NaN</td>\n    </tr>\n    <tr>\n      <th>2</th>\n      <td>3</td>\n      <td>38422.0</td>\n      <td>219136.0</td>\n      <td>61215.0</td>\n      <td>201738.0</td>\n      <td>88853.0</td>\n      <td>NaN</td>\n      <td>NaN</td>\n      <td>NaN</td>\n      <td>NaN</td>\n      <td>...</td>\n      <td>NaN</td>\n      <td>NaN</td>\n      <td>NaN</td>\n      <td>NaN</td>\n      <td>NaN</td>\n      <td>NaN</td>\n      <td>NaN</td>\n      <td>NaN</td>\n      <td>NaN</td>\n      <td>NaN</td>\n    </tr>\n    <tr>\n      <th>3</th>\n      <td>4</td>\n      <td>119529.0</td>\n      <td>166863.0</td>\n      <td>17453.0</td>\n      <td>35389.0</td>\n      <td>NaN</td>\n      <td>NaN</td>\n      <td>NaN</td>\n      <td>NaN</td>\n      <td>NaN</td>\n      <td>...</td>\n      <td>NaN</td>\n      <td>NaN</td>\n      <td>NaN</td>\n      <td>NaN</td>\n      <td>NaN</td>\n      <td>NaN</td>\n      <td>NaN</td>\n      <td>NaN</td>\n      <td>NaN</td>\n      <td>NaN</td>\n    </tr>\n    <tr>\n      <th>4</th>\n      <td>5</td>\n      <td>16742.0</td>\n      <td>294690.0</td>\n      <td>61215.0</td>\n      <td>34486.0</td>\n      <td>274088.0</td>\n      <td>NaN</td>\n      <td>NaN</td>\n      <td>NaN</td>\n      <td>NaN</td>\n      <td>...</td>\n      <td>NaN</td>\n      <td>NaN</td>\n      <td>NaN</td>\n      <td>NaN</td>\n      <td>NaN</td>\n      <td>NaN</td>\n      <td>NaN</td>\n      <td>NaN</td>\n      <td>NaN</td>\n      <td>NaN</td>\n    </tr>\n    <tr>\n      <th>...</th>\n      <td>...</td>\n      <td>...</td>\n      <td>...</td>\n      <td>...</td>\n      <td>...</td>\n      <td>...</td>\n      <td>...</td>\n      <td>...</td>\n      <td>...</td>\n      <td>...</td>\n      <td>...</td>\n      <td>...</td>\n      <td>...</td>\n      <td>...</td>\n      <td>...</td>\n      <td>...</td>\n      <td>...</td>\n      <td>...</td>\n      <td>...</td>\n      <td>...</td>\n      <td>...</td>\n    </tr>\n    <tr>\n      <th>224036</th>\n      <td>296100</td>\n      <td>166516.0</td>\n      <td>33011.0</td>\n      <td>274088.0</td>\n      <td>199606.0</td>\n      <td>88853.0</td>\n      <td>NaN</td>\n      <td>NaN</td>\n      <td>NaN</td>\n      <td>NaN</td>\n      <td>...</td>\n      <td>NaN</td>\n      <td>NaN</td>\n      <td>NaN</td>\n      <td>NaN</td>\n      <td>NaN</td>\n      <td>NaN</td>\n      <td>NaN</td>\n      <td>NaN</td>\n      <td>NaN</td>\n      <td>NaN</td>\n    </tr>\n    <tr>\n      <th>224037</th>\n      <td>296101</td>\n      <td>NaN</td>\n      <td>NaN</td>\n      <td>NaN</td>\n      <td>NaN</td>\n      <td>NaN</td>\n      <td>NaN</td>\n      <td>NaN</td>\n      <td>NaN</td>\n      <td>NaN</td>\n      <td>...</td>\n      <td>NaN</td>\n      <td>NaN</td>\n      <td>NaN</td>\n      <td>NaN</td>\n      <td>NaN</td>\n      <td>NaN</td>\n      <td>NaN</td>\n      <td>NaN</td>\n      <td>NaN</td>\n      <td>NaN</td>\n    </tr>\n    <tr>\n      <th>224038</th>\n      <td>296102</td>\n      <td>153644.0</td>\n      <td>289056.0</td>\n      <td>158282.0</td>\n      <td>139095.0</td>\n      <td>242383.0</td>\n      <td>NaN</td>\n      <td>NaN</td>\n      <td>NaN</td>\n      <td>NaN</td>\n      <td>...</td>\n      <td>NaN</td>\n      <td>NaN</td>\n      <td>NaN</td>\n      <td>NaN</td>\n      <td>NaN</td>\n      <td>NaN</td>\n      <td>NaN</td>\n      <td>NaN</td>\n      <td>NaN</td>\n      <td>NaN</td>\n    </tr>\n    <tr>\n      <th>224039</th>\n      <td>296105</td>\n      <td>68336.0</td>\n      <td>6613.0</td>\n      <td>82064.0</td>\n      <td>NaN</td>\n      <td>NaN</td>\n      <td>NaN</td>\n      <td>NaN</td>\n      <td>NaN</td>\n      <td>NaN</td>\n      <td>...</td>\n      <td>NaN</td>\n      <td>NaN</td>\n      <td>NaN</td>\n      <td>NaN</td>\n      <td>NaN</td>\n      <td>NaN</td>\n      <td>NaN</td>\n      <td>NaN</td>\n      <td>NaN</td>\n      <td>NaN</td>\n    </tr>\n    <tr>\n      <th>224040</th>\n      <td>296110</td>\n      <td>281202.0</td>\n      <td>140302.0</td>\n      <td>61215.0</td>\n      <td>NaN</td>\n      <td>NaN</td>\n      <td>NaN</td>\n      <td>NaN</td>\n      <td>NaN</td>\n      <td>NaN</td>\n      <td>...</td>\n      <td>NaN</td>\n      <td>NaN</td>\n      <td>NaN</td>\n      <td>NaN</td>\n      <td>NaN</td>\n      <td>NaN</td>\n      <td>NaN</td>\n      <td>NaN</td>\n      <td>NaN</td>\n      <td>NaN</td>\n    </tr>\n  </tbody>\n</table>\n<p>224041 rows × 24 columns</p>\n</div>"
    }
   },
   "source": [
    "{{ trackData }}"
   ]
  },
  {
   "cell_type": "markdown",
   "metadata": {},
   "source": [
    "# Training Data: \n",
    "### 249,000 users\n",
    "### 296,000 items\n",
    "### 62M rating scores"
   ]
  },
  {
   "cell_type": "code",
   "execution_count": 8,
   "metadata": {},
   "outputs": [],
   "source": [
    "trainCols = ['UserID','ItemID', 'Rating']\n",
    "trainData = pd.read_csv('./ee627ws-2020fall/trainIdx2_matrix.txt', \n",
    "                        sep='|',\n",
    "                        names=trainCols,\n",
    "                        engine='python', \n",
    "                        header=None)"
   ]
  },
  {
   "cell_type": "markdown",
   "metadata": {
    "variables": {
     " trainData ": "<div>\n<style scoped>\n    .dataframe tbody tr th:only-of-type {\n        vertical-align: middle;\n    }\n\n    .dataframe tbody tr th {\n        vertical-align: top;\n    }\n\n    .dataframe thead th {\n        text-align: right;\n    }\n</style>\n<table border=\"1\" class=\"dataframe\">\n  <thead>\n    <tr style=\"text-align: right;\">\n      <th></th>\n      <th>UserID</th>\n      <th>ItemID</th>\n      <th>Rating</th>\n    </tr>\n  </thead>\n  <tbody>\n    <tr>\n      <th>0</th>\n      <td>199808</td>\n      <td>248969</td>\n      <td>90</td>\n    </tr>\n    <tr>\n      <th>1</th>\n      <td>199808</td>\n      <td>2663</td>\n      <td>90</td>\n    </tr>\n    <tr>\n      <th>2</th>\n      <td>199808</td>\n      <td>28341</td>\n      <td>90</td>\n    </tr>\n    <tr>\n      <th>3</th>\n      <td>199808</td>\n      <td>42563</td>\n      <td>90</td>\n    </tr>\n    <tr>\n      <th>4</th>\n      <td>199808</td>\n      <td>59092</td>\n      <td>90</td>\n    </tr>\n    <tr>\n      <th>...</th>\n      <td>...</td>\n      <td>...</td>\n      <td>...</td>\n    </tr>\n    <tr>\n      <th>12403570</th>\n      <td>249011</td>\n      <td>270557</td>\n      <td>90</td>\n    </tr>\n    <tr>\n      <th>12403571</th>\n      <td>249011</td>\n      <td>273574</td>\n      <td>90</td>\n    </tr>\n    <tr>\n      <th>12403572</th>\n      <td>249011</td>\n      <td>286938</td>\n      <td>90</td>\n    </tr>\n    <tr>\n      <th>12403573</th>\n      <td>249011</td>\n      <td>287681</td>\n      <td>80</td>\n    </tr>\n    <tr>\n      <th>12403574</th>\n      <td>249011</td>\n      <td>295381</td>\n      <td>90</td>\n    </tr>\n  </tbody>\n</table>\n<p>12403575 rows × 3 columns</p>\n</div>"
    }
   },
   "source": [
    "{{ trainData }}"
   ]
  },
  {
   "cell_type": "markdown",
   "metadata": {},
   "source": [
    "# Build Recommenders using surprise"
   ]
  },
  {
   "cell_type": "code",
   "execution_count": 9,
   "metadata": {},
   "outputs": [],
   "source": [
    "from surprise import Dataset\n",
    "from surprise import Reader"
   ]
  },
  {
   "cell_type": "code",
   "execution_count": 10,
   "metadata": {},
   "outputs": [],
   "source": [
    "trainDataSurprise = trainData\n",
    "trainDataSurprise.columns = ['user', 'item', 'rating']\n",
    "\n",
    "max_rating = trainDataSurprise.rating.max()\n",
    "min_rating = trainDataSurprise.rating.min()"
   ]
  },
  {
   "cell_type": "code",
   "execution_count": 12,
   "metadata": {},
   "outputs": [],
   "source": [
    "reader = Reader(rating_scale=(min_rating, max_rating))\n",
    "data = Dataset.load_from_df(trainDataSurprise[['user', 'item', 'rating']], reader)"
   ]
  },
  {
   "cell_type": "markdown",
   "metadata": {},
   "source": [
    "### Reccommender, KNNWithMeans"
   ]
  },
  {
   "cell_type": "code",
   "execution_count": 13,
   "metadata": {},
   "outputs": [],
   "source": [
    "from surprise import KNNWithMeans"
   ]
  },
  {
   "cell_type": "code",
   "execution_count": 14,
   "metadata": {},
   "outputs": [],
   "source": [
    "sim_options = {\n",
    "    'name': 'cosine',\n",
    "    'user_based': False #Compute similarities between items\n",
    "}\n",
    "algo = KNNWithMeans(sim_options=sim_options)"
   ]
  },
  {
   "cell_type": "code",
   "execution_count": 15,
   "metadata": {},
   "outputs": [],
   "source": [
    "trainingSet = data.build_full_trainset()"
   ]
  },
  {
   "cell_type": "code",
   "execution_count": null,
   "metadata": {},
   "outputs": [],
   "source": [
    "algo.fit(trainingSet)"
   ]
  },
  {
   "cell_type": "markdown",
   "metadata": {},
   "source": [
    "# Test Data: \n",
    "### 100,000 users, 6 tracks per user \n",
    "### The test users are in the training dataset"
   ]
  },
  {
   "cell_type": "code",
   "execution_count": 7,
   "metadata": {},
   "outputs": [
    {
     "name": "stdout",
     "output_type": "stream",
     "text": [
      "        UserID  TrackID   AlbumID  ArtistID  GenreID_1  GenreID_2  GenreID_3  \\\n",
      "0       199810   208019  209288.0       NaN        NaN        NaN        NaN   \n",
      "1       199810    74139  277282.0  271146.0   113360.0   173467.0   173655.0   \n",
      "2       199810     9903       NaN       NaN    33722.0   123396.0    79926.0   \n",
      "3       199810   242681  190640.0  244574.0    61215.0    17453.0   274088.0   \n",
      "4       199810    18515  146344.0   33168.0    19913.0    48505.0   154024.0   \n",
      "...        ...      ...       ...       ...        ...        ...        ...   \n",
      "119995  249010    72192  258175.0  258848.0    61215.0    17453.0   274088.0   \n",
      "119996  249010    86104   94638.0  252184.0    33204.0        NaN        NaN   \n",
      "119997  249010   186634  257363.0  190627.0   173467.0    48505.0        NaN   \n",
      "119998  249010   293818  289167.0  189054.0   189467.0        NaN        NaN   \n",
      "119999  249010   262811  205465.0  247050.0   173467.0    48505.0   133159.0   \n",
      "\n",
      "        GenreID_4  GenreID_5  GenreID_6  ...  GenreID_12  GenreID_13  \\\n",
      "0             NaN        NaN        NaN  ...         NaN         NaN   \n",
      "1        192976.0   146792.0    48505.0  ...         NaN         NaN   \n",
      "2         73523.0        NaN        NaN  ...         NaN         NaN   \n",
      "3             NaN        NaN        NaN  ...         NaN         NaN   \n",
      "4             NaN        NaN        NaN  ...         NaN         NaN   \n",
      "...           ...        ...        ...  ...         ...         ...   \n",
      "119995    88853.0        NaN        NaN  ...         NaN         NaN   \n",
      "119996        NaN        NaN        NaN  ...         NaN         NaN   \n",
      "119997        NaN        NaN        NaN  ...         NaN         NaN   \n",
      "119998        NaN        NaN        NaN  ...         NaN         NaN   \n",
      "119999        NaN        NaN        NaN  ...         NaN         NaN   \n",
      "\n",
      "        GenreID_14  GenreID_15  GenreID_16  GenreID_17  GenreID_18  \\\n",
      "0              NaN         NaN         NaN         NaN         NaN   \n",
      "1              NaN         NaN         NaN         NaN         NaN   \n",
      "2              NaN         NaN         NaN         NaN         NaN   \n",
      "3              NaN         NaN         NaN         NaN         NaN   \n",
      "4              NaN         NaN         NaN         NaN         NaN   \n",
      "...            ...         ...         ...         ...         ...   \n",
      "119995         NaN         NaN         NaN         NaN         NaN   \n",
      "119996         NaN         NaN         NaN         NaN         NaN   \n",
      "119997         NaN         NaN         NaN         NaN         NaN   \n",
      "119998         NaN         NaN         NaN         NaN         NaN   \n",
      "119999         NaN         NaN         NaN         NaN         NaN   \n",
      "\n",
      "        GenreID_19  GenreID_20  GenreID_21  \n",
      "0              NaN         NaN         NaN  \n",
      "1              NaN         NaN         NaN  \n",
      "2              NaN         NaN         NaN  \n",
      "3              NaN         NaN         NaN  \n",
      "4              NaN         NaN         NaN  \n",
      "...            ...         ...         ...  \n",
      "119995         NaN         NaN         NaN  \n",
      "119996         NaN         NaN         NaN  \n",
      "119997         NaN         NaN         NaN  \n",
      "119998         NaN         NaN         NaN  \n",
      "119999         NaN         NaN         NaN  \n",
      "\n",
      "[120000 rows x 25 columns]\n"
     ]
    }
   ],
   "source": [
    "testCols = ['UserID', 'TrackID', 'AlbumID', 'ArtistID', 'GenreID_1', 'GenreID_2', 'GenreID_3', 'GenreID_4', 'GenreID_5', 'GenreID_6', 'GenreID_7', 'GenreID_8', 'GenreID_9', 'GenreID_10', 'GenreID_11', 'GenreID_12', 'GenreID_13', 'GenreID_14', 'GenreID_15', 'GenreID_16', 'GenreID_17', 'GenreID_18', 'GenreID_19', 'GenreID_20', 'GenreID_21']\n",
    "testData = pd.read_csv('./ee627ws-2020fall/testTrack_hierarchy.txt', \n",
    "                        sep='|',\n",
    "                        names=testCols,\n",
    "                        engine='python', \n",
    "                        na_values=['None'],\n",
    "                        header=None)"
   ]
  },
  {
   "cell_type": "markdown",
   "metadata": {},
   "source": [
    "{{ testData }} "
   ]
  },
  {
   "cell_type": "code",
   "execution_count": null,
   "metadata": {},
   "outputs": [],
   "source": []
  },
  {
   "cell_type": "code",
   "execution_count": null,
   "metadata": {},
   "outputs": [],
   "source": []
  },
  {
   "cell_type": "code",
   "execution_count": null,
   "metadata": {},
   "outputs": [],
   "source": []
  },
  {
   "cell_type": "code",
   "execution_count": null,
   "metadata": {},
   "outputs": [],
   "source": []
  },
  {
   "cell_type": "code",
   "execution_count": null,
   "metadata": {},
   "outputs": [],
   "source": []
  },
  {
   "cell_type": "markdown",
   "metadata": {},
   "source": [
    "### Classify each item: TrackID, AlbumID, or ArtistID"
   ]
  },
  {
   "cell_type": "code",
   "execution_count": 7,
   "metadata": {},
   "outputs": [],
   "source": [
    "items = trainData.ItemID.tolist()\n",
    "trackIDs = set(trackData.TrackID.tolist())\n",
    "albumIDs = set(albumData.AlbumID.tolist())\n",
    "artistIDs = set(artistData.ArtistID.tolist())\n",
    "genreIDs = set(genreData.GenreID.tolist())"
   ]
  },
  {
   "cell_type": "code",
   "execution_count": 8,
   "metadata": {},
   "outputs": [],
   "source": [
    "itemType = []\n",
    "\n",
    "for element in items: \n",
    "    if element in trackIDs: \n",
    "        itemType.append('Track')\n",
    "    elif element in albumIDs: \n",
    "        itemType.append('Album')\n",
    "    elif element in artistIDs: \n",
    "        itemType.append('Artist')\n",
    "    elif element in genreIDs: \n",
    "        itemType.append('Genre')\n",
    "    else: \n",
    "        print('HELP')"
   ]
  },
  {
   "cell_type": "markdown",
   "metadata": {},
   "source": [
    "{{ trainDataSurprise }}"
   ]
  },
  {
   "cell_type": "code",
   "execution_count": 29,
   "metadata": {},
   "outputs": [
    {
     "ename": "KeyError",
     "evalue": "('UserID', 'ItemID', 'Rating')",
     "output_type": "error",
     "traceback": [
      "\u001b[0;31m---------------------------------------------------------------------------\u001b[0m",
      "\u001b[0;31mKeyError\u001b[0m                                  Traceback (most recent call last)",
      "\u001b[0;32m~/opt/anaconda3/lib/python3.8/site-packages/pandas/core/indexes/base.py\u001b[0m in \u001b[0;36mget_loc\u001b[0;34m(self, key, method, tolerance)\u001b[0m\n\u001b[1;32m   2645\u001b[0m             \u001b[0;32mtry\u001b[0m\u001b[0;34m:\u001b[0m\u001b[0;34m\u001b[0m\u001b[0;34m\u001b[0m\u001b[0m\n\u001b[0;32m-> 2646\u001b[0;31m                 \u001b[0;32mreturn\u001b[0m \u001b[0mself\u001b[0m\u001b[0;34m.\u001b[0m\u001b[0m_engine\u001b[0m\u001b[0;34m.\u001b[0m\u001b[0mget_loc\u001b[0m\u001b[0;34m(\u001b[0m\u001b[0mkey\u001b[0m\u001b[0;34m)\u001b[0m\u001b[0;34m\u001b[0m\u001b[0;34m\u001b[0m\u001b[0m\n\u001b[0m\u001b[1;32m   2647\u001b[0m             \u001b[0;32mexcept\u001b[0m \u001b[0mKeyError\u001b[0m\u001b[0;34m:\u001b[0m\u001b[0;34m\u001b[0m\u001b[0;34m\u001b[0m\u001b[0m\n",
      "\u001b[0;32mpandas/_libs/index.pyx\u001b[0m in \u001b[0;36mpandas._libs.index.IndexEngine.get_loc\u001b[0;34m()\u001b[0m\n",
      "\u001b[0;32mpandas/_libs/index.pyx\u001b[0m in \u001b[0;36mpandas._libs.index.IndexEngine.get_loc\u001b[0;34m()\u001b[0m\n",
      "\u001b[0;32mpandas/_libs/hashtable_class_helper.pxi\u001b[0m in \u001b[0;36mpandas._libs.hashtable.PyObjectHashTable.get_item\u001b[0;34m()\u001b[0m\n",
      "\u001b[0;32mpandas/_libs/hashtable_class_helper.pxi\u001b[0m in \u001b[0;36mpandas._libs.hashtable.PyObjectHashTable.get_item\u001b[0;34m()\u001b[0m\n",
      "\u001b[0;31mKeyError\u001b[0m: ('UserID', 'ItemID', 'Rating')",
      "\nDuring handling of the above exception, another exception occurred:\n",
      "\u001b[0;31mKeyError\u001b[0m                                  Traceback (most recent call last)",
      "\u001b[0;32m<ipython-input-29-ca5426718614>\u001b[0m in \u001b[0;36m<module>\u001b[0;34m\u001b[0m\n\u001b[0;32m----> 1\u001b[0;31m \u001b[0mdata\u001b[0m \u001b[0;34m=\u001b[0m \u001b[0mDataset\u001b[0m\u001b[0;34m.\u001b[0m\u001b[0mload_from_df\u001b[0m\u001b[0;34m(\u001b[0m\u001b[0mtrainData\u001b[0m\u001b[0;34m[\u001b[0m\u001b[0;34m'UserID'\u001b[0m\u001b[0;34m,\u001b[0m \u001b[0;34m'ItemID'\u001b[0m\u001b[0;34m,\u001b[0m \u001b[0;34m'Rating'\u001b[0m\u001b[0;34m]\u001b[0m\u001b[0;34m)\u001b[0m\u001b[0;34m\u001b[0m\u001b[0;34m\u001b[0m\u001b[0m\n\u001b[0m",
      "\u001b[0;32m~/opt/anaconda3/lib/python3.8/site-packages/pandas/core/frame.py\u001b[0m in \u001b[0;36m__getitem__\u001b[0;34m(self, key)\u001b[0m\n\u001b[1;32m   2798\u001b[0m             \u001b[0;32mif\u001b[0m \u001b[0mself\u001b[0m\u001b[0;34m.\u001b[0m\u001b[0mcolumns\u001b[0m\u001b[0;34m.\u001b[0m\u001b[0mnlevels\u001b[0m \u001b[0;34m>\u001b[0m \u001b[0;36m1\u001b[0m\u001b[0;34m:\u001b[0m\u001b[0;34m\u001b[0m\u001b[0;34m\u001b[0m\u001b[0m\n\u001b[1;32m   2799\u001b[0m                 \u001b[0;32mreturn\u001b[0m \u001b[0mself\u001b[0m\u001b[0;34m.\u001b[0m\u001b[0m_getitem_multilevel\u001b[0m\u001b[0;34m(\u001b[0m\u001b[0mkey\u001b[0m\u001b[0;34m)\u001b[0m\u001b[0;34m\u001b[0m\u001b[0;34m\u001b[0m\u001b[0m\n\u001b[0;32m-> 2800\u001b[0;31m             \u001b[0mindexer\u001b[0m \u001b[0;34m=\u001b[0m \u001b[0mself\u001b[0m\u001b[0;34m.\u001b[0m\u001b[0mcolumns\u001b[0m\u001b[0;34m.\u001b[0m\u001b[0mget_loc\u001b[0m\u001b[0;34m(\u001b[0m\u001b[0mkey\u001b[0m\u001b[0;34m)\u001b[0m\u001b[0;34m\u001b[0m\u001b[0;34m\u001b[0m\u001b[0m\n\u001b[0m\u001b[1;32m   2801\u001b[0m             \u001b[0;32mif\u001b[0m \u001b[0mis_integer\u001b[0m\u001b[0;34m(\u001b[0m\u001b[0mindexer\u001b[0m\u001b[0;34m)\u001b[0m\u001b[0;34m:\u001b[0m\u001b[0;34m\u001b[0m\u001b[0;34m\u001b[0m\u001b[0m\n\u001b[1;32m   2802\u001b[0m                 \u001b[0mindexer\u001b[0m \u001b[0;34m=\u001b[0m \u001b[0;34m[\u001b[0m\u001b[0mindexer\u001b[0m\u001b[0;34m]\u001b[0m\u001b[0;34m\u001b[0m\u001b[0;34m\u001b[0m\u001b[0m\n",
      "\u001b[0;32m~/opt/anaconda3/lib/python3.8/site-packages/pandas/core/indexes/base.py\u001b[0m in \u001b[0;36mget_loc\u001b[0;34m(self, key, method, tolerance)\u001b[0m\n\u001b[1;32m   2646\u001b[0m                 \u001b[0;32mreturn\u001b[0m \u001b[0mself\u001b[0m\u001b[0;34m.\u001b[0m\u001b[0m_engine\u001b[0m\u001b[0;34m.\u001b[0m\u001b[0mget_loc\u001b[0m\u001b[0;34m(\u001b[0m\u001b[0mkey\u001b[0m\u001b[0;34m)\u001b[0m\u001b[0;34m\u001b[0m\u001b[0;34m\u001b[0m\u001b[0m\n\u001b[1;32m   2647\u001b[0m             \u001b[0;32mexcept\u001b[0m \u001b[0mKeyError\u001b[0m\u001b[0;34m:\u001b[0m\u001b[0;34m\u001b[0m\u001b[0;34m\u001b[0m\u001b[0m\n\u001b[0;32m-> 2648\u001b[0;31m                 \u001b[0;32mreturn\u001b[0m \u001b[0mself\u001b[0m\u001b[0;34m.\u001b[0m\u001b[0m_engine\u001b[0m\u001b[0;34m.\u001b[0m\u001b[0mget_loc\u001b[0m\u001b[0;34m(\u001b[0m\u001b[0mself\u001b[0m\u001b[0;34m.\u001b[0m\u001b[0m_maybe_cast_indexer\u001b[0m\u001b[0;34m(\u001b[0m\u001b[0mkey\u001b[0m\u001b[0;34m)\u001b[0m\u001b[0;34m)\u001b[0m\u001b[0;34m\u001b[0m\u001b[0;34m\u001b[0m\u001b[0m\n\u001b[0m\u001b[1;32m   2649\u001b[0m         \u001b[0mindexer\u001b[0m \u001b[0;34m=\u001b[0m \u001b[0mself\u001b[0m\u001b[0;34m.\u001b[0m\u001b[0mget_indexer\u001b[0m\u001b[0;34m(\u001b[0m\u001b[0;34m[\u001b[0m\u001b[0mkey\u001b[0m\u001b[0;34m]\u001b[0m\u001b[0;34m,\u001b[0m \u001b[0mmethod\u001b[0m\u001b[0;34m=\u001b[0m\u001b[0mmethod\u001b[0m\u001b[0;34m,\u001b[0m \u001b[0mtolerance\u001b[0m\u001b[0;34m=\u001b[0m\u001b[0mtolerance\u001b[0m\u001b[0;34m)\u001b[0m\u001b[0;34m\u001b[0m\u001b[0;34m\u001b[0m\u001b[0m\n\u001b[1;32m   2650\u001b[0m         \u001b[0;32mif\u001b[0m \u001b[0mindexer\u001b[0m\u001b[0;34m.\u001b[0m\u001b[0mndim\u001b[0m \u001b[0;34m>\u001b[0m \u001b[0;36m1\u001b[0m \u001b[0;32mor\u001b[0m \u001b[0mindexer\u001b[0m\u001b[0;34m.\u001b[0m\u001b[0msize\u001b[0m \u001b[0;34m>\u001b[0m \u001b[0;36m1\u001b[0m\u001b[0;34m:\u001b[0m\u001b[0;34m\u001b[0m\u001b[0;34m\u001b[0m\u001b[0m\n",
      "\u001b[0;32mpandas/_libs/index.pyx\u001b[0m in \u001b[0;36mpandas._libs.index.IndexEngine.get_loc\u001b[0;34m()\u001b[0m\n",
      "\u001b[0;32mpandas/_libs/index.pyx\u001b[0m in \u001b[0;36mpandas._libs.index.IndexEngine.get_loc\u001b[0;34m()\u001b[0m\n",
      "\u001b[0;32mpandas/_libs/hashtable_class_helper.pxi\u001b[0m in \u001b[0;36mpandas._libs.hashtable.PyObjectHashTable.get_item\u001b[0;34m()\u001b[0m\n",
      "\u001b[0;32mpandas/_libs/hashtable_class_helper.pxi\u001b[0m in \u001b[0;36mpandas._libs.hashtable.PyObjectHashTable.get_item\u001b[0;34m()\u001b[0m\n",
      "\u001b[0;31mKeyError\u001b[0m: ('UserID', 'ItemID', 'Rating')"
     ]
    }
   ],
   "source": [
    "data = Dataset.load_from_df(trainDataSurprise['user', 'item','rating'])"
   ]
  },
  {
   "cell_type": "markdown",
   "metadata": {},
   "source": [
    "## Train Data, with classifications column"
   ]
  },
  {
   "cell_type": "code",
   "execution_count": 9,
   "metadata": {},
   "outputs": [],
   "source": [
    "trainData_Classified = trainData\n",
    "trainData_Classified.insert(2, 'ItemType', itemType)"
   ]
  },
  {
   "cell_type": "markdown",
   "metadata": {},
   "source": [
    "{{ trainData_Classified }}"
   ]
  },
  {
   "cell_type": "markdown",
   "metadata": {},
   "source": [
    "## Train Data, grouped by ItemType"
   ]
  },
  {
   "cell_type": "code",
   "execution_count": 10,
   "metadata": {},
   "outputs": [],
   "source": [
    "dict_of_itemTypes = dict(tuple(trainData_Classified.groupby('ItemType')))"
   ]
  },
  {
   "cell_type": "markdown",
   "metadata": {},
   "source": [
    "# ItemType: Track model"
   ]
  },
  {
   "cell_type": "markdown",
   "metadata": {},
   "source": [
    "{{ dict_of_itemTypes['Track'] }}"
   ]
  },
  {
   "cell_type": "code",
   "execution_count": null,
   "metadata": {},
   "outputs": [],
   "source": []
  },
  {
   "cell_type": "code",
   "execution_count": null,
   "metadata": {},
   "outputs": [],
   "source": []
  },
  {
   "cell_type": "code",
   "execution_count": null,
   "metadata": {},
   "outputs": [],
   "source": []
  },
  {
   "cell_type": "code",
   "execution_count": null,
   "metadata": {},
   "outputs": [],
   "source": []
  },
  {
   "cell_type": "code",
   "execution_count": null,
   "metadata": {},
   "outputs": [],
   "source": []
  },
  {
   "cell_type": "code",
   "execution_count": null,
   "metadata": {},
   "outputs": [],
   "source": []
  },
  {
   "cell_type": "markdown",
   "metadata": {},
   "source": [
    "### Find number of unique users and unique tracks"
   ]
  },
  {
   "cell_type": "code",
   "execution_count": 18,
   "metadata": {},
   "outputs": [],
   "source": [
    "n_users = dict_of_itemTypes['Track'].UserID.nunique()\n",
    "n_tracks = dict_of_itemTypes['Track'].ItemID.nunique()"
   ]
  },
  {
   "cell_type": "markdown",
   "metadata": {},
   "source": [
    "Number of users: {{ n_users }}\n",
    "\n",
    "Number of tracks: {{ n_tracks }}"
   ]
  },
  {
   "cell_type": "markdown",
   "metadata": {},
   "source": [
    "### List of unique userIDs and trackIDs"
   ]
  },
  {
   "cell_type": "code",
   "execution_count": 23,
   "metadata": {},
   "outputs": [],
   "source": [
    "unique_userIDs = dict_of_itemTypes['Track'].UserID.unique()\n",
    "unique_trackIDs = dict_of_itemTypes['Track'].ItemID.unique()"
   ]
  },
  {
   "cell_type": "markdown",
   "metadata": {},
   "source": [
    "### Find line number for the userIDs and TrackIDs, so we can use it to create the user-item matrix"
   ]
  },
  {
   "cell_type": "code",
   "execution_count": null,
   "metadata": {},
   "outputs": [],
   "source": [
    "currentUserID = unique_userIDs[0]\n",
    "userID_IDs = []\n",
    "i = 1\n",
    "for item in dict_of_itemTypes['Track'].UserID:\n",
    "    if currentUserID == dict_of_itemTypes['Track'].UserID:\n",
    "        userID_IDs.append(i)\n",
    "    else: \n",
    "        i+=1\n",
    "        currentUserID = unique_userIDs[i-1]\n",
    "        userID_IDs.append(i)"
   ]
  },
  {
   "cell_type": "code",
   "execution_count": null,
   "metadata": {},
   "outputs": [],
   "source": [
    "currentTrackID = unique_trackIDs[0]\n",
    "trackID_IDs = []\n",
    "i = 1\n",
    "for item in dict_of_itemTypes['Track'].UserID:\n",
    "    if currentUserID == dict_of_itemTypes['Track'].UserID:\n",
    "        trackID_IDs.append(i)\n",
    "    else: \n",
    "        i+=1\n",
    "        currentTrackID = unique_trackIDs[i-1]\n",
    "        trackID_IDs.append(i)"
   ]
  },
  {
   "cell_type": "markdown",
   "metadata": {},
   "source": [
    "{{ dict_of_itemTypes['Track'].UserID}} "
   ]
  },
  {
   "cell_type": "markdown",
   "metadata": {},
   "source": [
    "{{ len(trackIDLine) }} "
   ]
  },
  {
   "cell_type": "code",
   "execution_count": 21,
   "metadata": {},
   "outputs": [],
   "source": [
    "train_tracks_with_lines = dict_of_itemTypes['Track']"
   ]
  },
  {
   "cell_type": "markdown",
   "metadata": {},
   "source": [
    "{{ train_tracks_with_lines }} "
   ]
  },
  {
   "cell_type": "markdown",
   "metadata": {},
   "source": [
    "### Create a user-item matrix"
   ]
  },
  {
   "cell_type": "code",
   "execution_count": 14,
   "metadata": {},
   "outputs": [],
   "source": [
    "train_data_matrix = np.zeros((n_users, n_tracks))"
   ]
  },
  {
   "cell_type": "code",
   "execution_count": 15,
   "metadata": {},
   "outputs": [
    {
     "ename": "IndexError",
     "evalue": "index 256007 is out of bounds for axis 1 with size 223780",
     "output_type": "error",
     "traceback": [
      "\u001b[0;31m---------------------------------------------------------------------------\u001b[0m",
      "\u001b[0;31mIndexError\u001b[0m                                Traceback (most recent call last)",
      "\u001b[0;32m<ipython-input-15-21c89ddb3b75>\u001b[0m in \u001b[0;36m<module>\u001b[0;34m\u001b[0m\n\u001b[1;32m      1\u001b[0m \u001b[0;32mfor\u001b[0m \u001b[0mline\u001b[0m \u001b[0;32min\u001b[0m \u001b[0mdict_of_itemTypes\u001b[0m\u001b[0;34m[\u001b[0m\u001b[0;34m'Track'\u001b[0m\u001b[0;34m]\u001b[0m\u001b[0;34m.\u001b[0m\u001b[0mitertuples\u001b[0m\u001b[0;34m(\u001b[0m\u001b[0mindex\u001b[0m\u001b[0;34m=\u001b[0m\u001b[0;32mFalse\u001b[0m\u001b[0;34m)\u001b[0m\u001b[0;34m:\u001b[0m\u001b[0;34m\u001b[0m\u001b[0;34m\u001b[0m\u001b[0m\n\u001b[0;32m----> 2\u001b[0;31m    \u001b[0mtrain_data_matrix\u001b[0m\u001b[0;34m[\u001b[0m\u001b[0mline\u001b[0m\u001b[0;34m[\u001b[0m\u001b[0;36m0\u001b[0m\u001b[0;34m]\u001b[0m\u001b[0;34m-\u001b[0m\u001b[0;36m199810\u001b[0m\u001b[0;34m,\u001b[0m \u001b[0mline\u001b[0m\u001b[0;34m[\u001b[0m\u001b[0;36m1\u001b[0m\u001b[0;34m]\u001b[0m\u001b[0;34m-\u001b[0m\u001b[0;36m1\u001b[0m\u001b[0;34m]\u001b[0m \u001b[0;34m=\u001b[0m \u001b[0mline\u001b[0m\u001b[0;34m[\u001b[0m\u001b[0;36m3\u001b[0m\u001b[0;34m]\u001b[0m\u001b[0;34m\u001b[0m\u001b[0;34m\u001b[0m\u001b[0m\n\u001b[0m",
      "\u001b[0;31mIndexError\u001b[0m: index 256007 is out of bounds for axis 1 with size 223780"
     ]
    }
   ],
   "source": [
    "for line in dict_of_itemTypes['Track'].itertuples(index=False):\n",
    "   train_data_matrix[line[0]-199810, line[1]-1] = line[3]"
   ]
  },
  {
   "cell_type": "markdown",
   "metadata": {},
   "source": [
    "Find the pairwise distances"
   ]
  },
  {
   "cell_type": "code",
   "execution_count": 30,
   "metadata": {},
   "outputs": [],
   "source": [
    "from sklearn.metrics.pairwise import pairwise_distances"
   ]
  },
  {
   "cell_type": "code",
   "execution_count": null,
   "metadata": {},
   "outputs": [],
   "source": [
    "user_similarity = pairwise_distances(train_data_matrix, metric='cosine')\n",
    "item_similarity = pairwise_distance(train_data_matrix.T, metric='cosine')"
   ]
  },
  {
   "cell_type": "code",
   "execution_count": null,
   "metadata": {},
   "outputs": [],
   "source": []
  }
 ],
 "metadata": {
  "kernelspec": {
   "display_name": "Python 3",
   "language": "python",
   "name": "python3"
  },
  "language_info": {
   "codemirror_mode": {
    "name": "ipython",
    "version": 3
   },
   "file_extension": ".py",
   "mimetype": "text/x-python",
   "name": "python",
   "nbconvert_exporter": "python",
   "pygments_lexer": "ipython3",
   "version": "3.8.3"
  }
 },
 "nbformat": 4,
 "nbformat_minor": 4
}
