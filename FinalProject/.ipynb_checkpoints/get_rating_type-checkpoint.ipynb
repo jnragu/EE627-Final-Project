{
 "cells": [
  {
   "cell_type": "code",
   "execution_count": 1,
   "metadata": {},
   "outputs": [],
   "source": [
    "from __future__ import print_function\n",
    "import time\n",
    "import sys\n",
    "import os"
   ]
  },
  {
   "cell_type": "code",
   "execution_count": 2,
   "metadata": {},
   "outputs": [],
   "source": [
    "TRACK_HIERARCHY = 'RawData/testTrack_hierarchy.txt'\n",
    "TRAIN = 'RawData/trainItem2.txt'\n",
    "OUTPUT = 'Data/rating_hierarchy.txt'"
   ]
  },
  {
   "cell_type": "code",
   "execution_count": 3,
   "metadata": {},
   "outputs": [],
   "source": [
    "# Create Data Folder if it does not exist\n",
    "if not os.path.isdir('Data'):\n",
    "    os.makedirs('Data')"
   ]
  },
  {
   "cell_type": "code",
   "execution_count": 4,
   "metadata": {},
   "outputs": [
    {
     "name": "stdout",
     "output_type": "stream",
     "text": [
      "Finished, Spend 9.13 s\n"
     ]
    }
   ],
   "source": [
    "start_time = time.time()\n",
    "\n",
    "user_rating = {}\n",
    "start_time = time.time()\n",
    "with open(TRAIN) as train:\n",
    "    for line in train:\n",
    "        if \"|\" in line:\n",
    "            cur_user = line.strip(\"\\n\").split(\"|\")[0]\n",
    "            user_rating[cur_user]={}\n",
    "            continue\n",
    "        item_id,item_score=line.strip(\"\\n\").split()\n",
    "        user_rating[cur_user][item_id]=item_score\n",
    "\n",
    "with open(OUTPUT, \"w\") as output:\n",
    "    with open(TRACK_HIERARCHY) as record:\n",
    "        for line in record:\n",
    "            gen_out=\"\"\n",
    "            user,track=line.strip(\"\\n\").split(\"|\")[0],line.strip(\"\\n\").split(\"|\")[1]\n",
    "            items=line.strip(\"\\n\").split(\"|\")[2:]\n",
    "            if len(items)==0:\n",
    "                album_score='None'\n",
    "                artist_score='None'\n",
    "            if len(items)==1:\n",
    "                album=items[0]\n",
    "                try:\n",
    "                    album_score=user_rating[user][album]\n",
    "                except KeyError:\n",
    "                    album_score='None'\n",
    "                artist_score='None'\n",
    "            if len(items)==2:\n",
    "                album = items[0]\n",
    "                artist = items[1]\n",
    "                try:\n",
    "                    album_score=user_rating[user][album]\n",
    "                except KeyError:\n",
    "                    album_score='None'\n",
    "                try:\n",
    "                    artist_score=user_rating[user][artist]\n",
    "                except KeyError:\n",
    "                    artist_score='None'\n",
    "            if len(items)>2:\n",
    "                try:\n",
    "                    album_score=user_rating[user][items[0]]\n",
    "                except KeyError:\n",
    "                    album_score='None'\n",
    "                try:\n",
    "                    artist_score=user_rating[user][items[1]]\n",
    "                except KeyError:\n",
    "                    artist_score='None'\n",
    "                genr=items[2:]\n",
    "                for g in genr:\n",
    "                    try:\n",
    "                        gen_out=gen_out+\"|\"+user_rating[user][g]\n",
    "                    except KeyError:\n",
    "                        pass\n",
    "            output.write(user + \"|\" + track + \"|\" + album_score + \"|\"+artist_score+gen_out+\"\\n\")\n",
    "\n",
    "\n",
    "\n",
    "print(\"Finished, Spend %.2f s\" % (time.time() - start_time))"
   ]
  },
  {
   "cell_type": "code",
   "execution_count": null,
   "metadata": {},
   "outputs": [],
   "source": []
  }
 ],
 "metadata": {
  "kernelspec": {
   "display_name": "Python 3",
   "language": "python",
   "name": "python3"
  },
  "language_info": {
   "codemirror_mode": {
    "name": "ipython",
    "version": 3
   },
   "file_extension": ".py",
   "mimetype": "text/x-python",
   "name": "python",
   "nbconvert_exporter": "python",
   "pygments_lexer": "ipython3",
   "version": "3.6.11"
  }
 },
 "nbformat": 4,
 "nbformat_minor": 4
}
