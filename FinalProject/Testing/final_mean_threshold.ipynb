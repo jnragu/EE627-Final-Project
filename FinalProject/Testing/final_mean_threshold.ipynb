{
 "cells": [
  {
   "cell_type": "code",
   "execution_count": 1,
   "metadata": {},
   "outputs": [],
   "source": [
    "from __future__ import print_function\n",
    "from operator import itemgetter\n",
    "import time\n",
    "import os"
   ]
  },
  {
   "cell_type": "code",
   "execution_count": 2,
   "metadata": {},
   "outputs": [],
   "source": [
    "RESULT_FILE = \"Results/prediction1.txt\"\t\t# Result file\n",
    "TEST_SCORE_FILE = \"Data/test_raw_score.txt\"\t\t# Hierarchy score file\n",
    "none_value = 50\t\t# Number to replace the none values"
   ]
  },
  {
   "cell_type": "code",
   "execution_count": 3,
   "metadata": {},
   "outputs": [],
   "source": [
    "# Create Folder is not there\n",
    "if not os.path.isdir(\"Results\"):\n",
    "\tos.makedirs(\"Results\")"
   ]
  },
  {
   "cell_type": "code",
   "execution_count": 4,
   "metadata": {},
   "outputs": [],
   "source": [
    "# Replace the highest three scores with 1, and lowest three scores with 0.\n",
    "# This simply use the sum of album score and artist score\n",
    "def sort_list(input_list):\n",
    "\tsorted_list = [[x[0],x[1]+x[2]] for x in input_list]\n",
    "\tsorted_list = sorted(sorted_list, key = itemgetter(1))\n",
    "\ti=0\n",
    "\tpred_dic = {}\n",
    "\tfor item in sorted_list:\n",
    "\t\tif i < 3:\n",
    "\t\t\tpred_dic[item[0]]=0\n",
    "\t\telse:\n",
    "\t\t\tpred_dic[item[0]]=1\n",
    "\t\ti += 1\n",
    "\treturn \t[pred_dic[item[0]] for item in input_list]\n",
    "\n",
    "# Function that read multiple lines, \"num\" is the number of lines you want to read\n",
    "def read_lines(file, num):\n",
    "\tlines = []\n",
    "\tline = file.readline()\n",
    "\tlines.append(line)\n",
    "\tif line:\n",
    "\t\tfor i in range(1,num):\n",
    "\t\t\tlines.append(file.readline())\n",
    "\t\treturn lines\n",
    "\telse:\n",
    "\t\treturn line"
   ]
  },
  {
   "cell_type": "code",
   "execution_count": 5,
   "metadata": {},
   "outputs": [
    {
     "name": "stdout",
     "output_type": "stream",
     "text": [
      "Finished, spend 0.45 s\n"
     ]
    }
   ],
   "source": [
    "start_time = time.time()\n",
    "\n",
    "## Main Program\n",
    "with open(RESULT_FILE, \"w\") as predictionFile:\n",
    "\twith open(TEST_SCORE_FILE) as testHierarchy:\n",
    "\t\ttest_list = read_lines(testHierarchy, 6)\n",
    "\t\twhile test_list:\n",
    "\t\t\t# Keep only the itemID, album ratings, and artist ratings.\n",
    "\t\t\ttest_list = [item.strip(\"\\n\").split(\"|\")[1:4] for item in test_list]\n",
    "\t\t\t\n",
    "\t\t\t# Replace the \"None\" item with a predefined value.\n",
    "\t\t\t# You can also change the value according to the mean rating score of each user.\n",
    "\t\t\tfor i in range(6):\n",
    "\t\t\t\ttest_list[i]=[int(item) if item!=\"None\" else none_value for item in test_list[i]]\n",
    "\t\t\t\n",
    "\t\t\t# Sort the list and get prediction\n",
    "\t\t\tprediction_result = sort_list(test_list)\n",
    "\t\t\t\n",
    "\t\t\t# Output prediction to result file \n",
    "\t\t\tfor item in prediction_result:\n",
    "\t\t\t\tpredictionFile.write(str(item)+\"\\n\")\n",
    "\t\t\t\n",
    "\t\t\ttest_list = read_lines(testHierarchy,6)\n",
    "\n",
    "print(\"Finished, spend %.2f s\"%(time.time()-start_time))"
   ]
  },
  {
   "cell_type": "code",
   "execution_count": null,
   "metadata": {},
   "outputs": [],
   "source": []
  }
 ],
 "metadata": {
  "kernelspec": {
   "display_name": "Python 3",
   "language": "python",
   "name": "python3"
  },
  "language_info": {
   "codemirror_mode": {
    "name": "ipython",
    "version": 3
   },
   "file_extension": ".py",
   "mimetype": "text/x-python",
   "name": "python",
   "nbconvert_exporter": "python",
   "pygments_lexer": "ipython3",
   "version": "3.6.11"
  }
 },
 "nbformat": 4,
 "nbformat_minor": 4
}
