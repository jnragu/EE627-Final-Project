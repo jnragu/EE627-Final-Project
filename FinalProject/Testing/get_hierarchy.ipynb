{
 "cells": [
  {
   "cell_type": "code",
   "execution_count": 4,
   "metadata": {},
   "outputs": [],
   "source": [
    "from __future__ import print_function\n",
    "import time\n",
    "import sys"
   ]
  },
  {
   "cell_type": "code",
   "execution_count": 5,
   "metadata": {},
   "outputs": [],
   "source": [
    "TRACK_DATA = 'RawData/trackData2.txt'\n",
    "TRACK_HIERARCHY = 'RawData/testTrack_hierarchy.txt'\n",
    "TEST_DATA = 'RawData/testItem2.txt'"
   ]
  },
  {
   "cell_type": "code",
   "execution_count": 6,
   "metadata": {},
   "outputs": [
    {
     "name": "stdout",
     "output_type": "stream",
     "text": [
      "249010\n",
      "Finished, Spend 0.43 s\n"
     ]
    }
   ],
   "source": [
    "lib_trackData = {}\n",
    "start_time = time.time()\n",
    "\n",
    "with open(TRACK_DATA) as trackData:\n",
    "    for line in trackData:\n",
    "        [track_Id, track_detail] = line.strip(\"\\n\").split(\"|\", maxsplit=1)\n",
    "        lib_trackData[track_Id] = track_detail\n",
    "with open(TRACK_HIERARCHY, \"w\") as testHierarchy:\n",
    "    with open(TEST_DATA) as testData:\n",
    "        for line in testData:\n",
    "            if \"|\" in line:\n",
    "                cur_user = line.strip(\"\\n\").split(\"|\")[0]\n",
    "                continue\n",
    "            cur_track = line.strip(\"\\n\")\n",
    "            testHierarchy.write(cur_user + \"|\" + cur_track + \"|\" + lib_trackData[cur_track] + \"\\n\")\n",
    "print(cur_user)\n",
    "print(\"Finished, Spend %.2f s\" % (time.time() - start_time))"
   ]
  },
  {
   "cell_type": "code",
   "execution_count": null,
   "metadata": {},
   "outputs": [],
   "source": []
  }
 ],
 "metadata": {
  "kernelspec": {
   "display_name": "Python 3",
   "language": "python",
   "name": "python3"
  },
  "language_info": {
   "codemirror_mode": {
    "name": "ipython",
    "version": 3
   },
   "file_extension": ".py",
   "mimetype": "text/x-python",
   "name": "python",
   "nbconvert_exporter": "python",
   "pygments_lexer": "ipython3",
   "version": "3.6.11"
  }
 },
 "nbformat": 4,
 "nbformat_minor": 4
}
