{
 "cells": [
  {
   "cell_type": "markdown",
   "metadata": {},
   "source": [
    "# Content Based Filtering"
   ]
  },
  {
   "cell_type": "markdown",
   "metadata": {},
   "source": [
    "## Download the new test data that includes the ground-truth scores and the ratings matrix obtained from matrix factorization"
   ]
  },
  {
   "cell_type": "code",
   "execution_count": 26,
   "metadata": {},
   "outputs": [
    {
     "data": {
      "text/html": [
       "<div>\n",
       "<style scoped>\n",
       "    .dataframe tbody tr th:only-of-type {\n",
       "        vertical-align: middle;\n",
       "    }\n",
       "\n",
       "    .dataframe tbody tr th {\n",
       "        vertical-align: top;\n",
       "    }\n",
       "\n",
       "    .dataframe thead th {\n",
       "        text-align: right;\n",
       "    }\n",
       "</style>\n",
       "<table border=\"1\" class=\"dataframe\">\n",
       "  <thead>\n",
       "    <tr style=\"text-align: right;\">\n",
       "      <th></th>\n",
       "      <th></th>\n",
       "      <th>predictor</th>\n",
       "    </tr>\n",
       "    <tr>\n",
       "      <th>userId</th>\n",
       "      <th>trackId</th>\n",
       "      <th></th>\n",
       "    </tr>\n",
       "  </thead>\n",
       "  <tbody>\n",
       "    <tr>\n",
       "      <th rowspan=\"5\" valign=\"top\">200031</th>\n",
       "      <th>30877</th>\n",
       "      <td>1</td>\n",
       "    </tr>\n",
       "    <tr>\n",
       "      <th>8244</th>\n",
       "      <td>1</td>\n",
       "    </tr>\n",
       "    <tr>\n",
       "      <th>130183</th>\n",
       "      <td>0</td>\n",
       "    </tr>\n",
       "    <tr>\n",
       "      <th>198762</th>\n",
       "      <td>0</td>\n",
       "    </tr>\n",
       "    <tr>\n",
       "      <th>34503</th>\n",
       "      <td>1</td>\n",
       "    </tr>\n",
       "  </tbody>\n",
       "</table>\n",
       "</div>"
      ],
      "text/plain": [
       "                predictor\n",
       "userId trackId           \n",
       "200031 30877            1\n",
       "       8244             1\n",
       "       130183           0\n",
       "       198762           0\n",
       "       34503            1"
      ]
     },
     "execution_count": 26,
     "metadata": {},
     "output_type": "execute_result"
    }
   ],
   "source": [
    "import pandas as pd\n",
    "\n",
    "train = pd.read_csv('test2_new.txt', sep = '|', header=None)\n",
    "train.columns = ['userId', 'trackId', 'predictor']\n",
    "train = train.set_index(['userId', 'trackId'])\n",
    "train.head()"
   ]
  },
  {
   "cell_type": "code",
   "execution_count": 33,
   "metadata": {},
   "outputs": [
    {
     "data": {
      "text/html": [
       "<div>\n",
       "<style scoped>\n",
       "    .dataframe tbody tr th:only-of-type {\n",
       "        vertical-align: middle;\n",
       "    }\n",
       "\n",
       "    .dataframe tbody tr th {\n",
       "        vertical-align: top;\n",
       "    }\n",
       "\n",
       "    .dataframe thead th {\n",
       "        text-align: right;\n",
       "    }\n",
       "</style>\n",
       "<table border=\"1\" class=\"dataframe\">\n",
       "  <thead>\n",
       "    <tr style=\"text-align: right;\">\n",
       "      <th></th>\n",
       "      <th></th>\n",
       "      <th>track_rating</th>\n",
       "      <th>album_rating</th>\n",
       "      <th>artist_rating</th>\n",
       "      <th>num_genres</th>\n",
       "    </tr>\n",
       "    <tr>\n",
       "      <th>userId</th>\n",
       "      <th>trackId</th>\n",
       "      <th></th>\n",
       "      <th></th>\n",
       "      <th></th>\n",
       "      <th></th>\n",
       "    </tr>\n",
       "  </thead>\n",
       "  <tbody>\n",
       "    <tr>\n",
       "      <th>200072</th>\n",
       "      <th>29894</th>\n",
       "      <td>75</td>\n",
       "      <td>73</td>\n",
       "      <td>76</td>\n",
       "      <td>16</td>\n",
       "    </tr>\n",
       "    <tr>\n",
       "      <th>200124</th>\n",
       "      <th>162126</th>\n",
       "      <td>9</td>\n",
       "      <td>10</td>\n",
       "      <td>11</td>\n",
       "      <td>18</td>\n",
       "    </tr>\n",
       "    <tr>\n",
       "      <th>200174</th>\n",
       "      <th>137908</th>\n",
       "      <td>25</td>\n",
       "      <td>40</td>\n",
       "      <td>35</td>\n",
       "      <td>16</td>\n",
       "    </tr>\n",
       "    <tr>\n",
       "      <th>200400</th>\n",
       "      <th>263168</th>\n",
       "      <td>71</td>\n",
       "      <td>100</td>\n",
       "      <td>67</td>\n",
       "      <td>20</td>\n",
       "    </tr>\n",
       "    <tr>\n",
       "      <th>200427</th>\n",
       "      <th>82634</th>\n",
       "      <td>10</td>\n",
       "      <td>85</td>\n",
       "      <td>116</td>\n",
       "      <td>18</td>\n",
       "    </tr>\n",
       "  </tbody>\n",
       "</table>\n",
       "</div>"
      ],
      "text/plain": [
       "                track_rating  album_rating  artist_rating  num_genres\n",
       "userId trackId                                                       \n",
       "200072 29894              75            73             76          16\n",
       "200124 162126              9            10             11          18\n",
       "200174 137908             25            40             35          16\n",
       "200400 263168             71           100             67          20\n",
       "200427 82634              10            85            116          18"
      ]
     },
     "execution_count": 33,
     "metadata": {},
     "output_type": "execute_result"
    }
   ],
   "source": [
    "test = pd.read_csv('ratings.csv')\n",
    "test = test.set_index(['userId', 'trackId'])\n",
    "test.head()"
   ]
  },
  {
   "cell_type": "code",
   "execution_count": 41,
   "metadata": {},
   "outputs": [],
   "source": [
    "test['predictor'] = train['predictor']\n",
    "test = test.dropna()\n",
    "test.head()\n",
    "\n",
    "test.to_csv('ground_truth.csv')"
   ]
  },
  {
   "cell_type": "markdown",
   "metadata": {},
   "source": [
    "## Spark Session"
   ]
  },
  {
   "cell_type": "code",
   "execution_count": 37,
   "metadata": {},
   "outputs": [],
   "source": [
    "import findspark\n",
    "findspark.init()\n",
    "\n",
    "from pyspark.sql import SparkSession\n",
    "\n",
    "spark = SparkSession\\\n",
    "        .builder\\\n",
    "        .master('local[*]')\\\n",
    "        .appName('ContentFiltering')\\\n",
    "        .config('spark.driver.maxResultSize', '10g')\\\n",
    "        .config('spark.executor.memory' ,'10g')\\\n",
    "        .config('spark.driver.memory', '10g')\\\n",
    "        .getOrCreate()\n",
    "\n",
    "from pyspark import SparkContext\n",
    "sc = SparkContext.getOrCreate()"
   ]
  },
  {
   "cell_type": "code",
   "execution_count": 38,
   "metadata": {},
   "outputs": [],
   "source": [
    "from pyspark.ml.evaluation import RegressionEvaluator\n",
    "from pyspark.ml.recommendation import ALS\n",
    "from pyspark.sql import Row"
   ]
  },
  {
   "cell_type": "code",
   "execution_count": 42,
   "metadata": {},
   "outputs": [],
   "source": [
    "train = spark.read.csv('ground_truth.csv', header=True)"
   ]
  },
  {
   "cell_type": "code",
   "execution_count": 43,
   "metadata": {},
   "outputs": [
    {
     "name": "stdout",
     "output_type": "stream",
     "text": [
      "root\n",
      " |-- userId: string (nullable = true)\n",
      " |-- trackId: string (nullable = true)\n",
      " |-- track_rating: string (nullable = true)\n",
      " |-- album_rating: string (nullable = true)\n",
      " |-- artist_rating: string (nullable = true)\n",
      " |-- num_genres: string (nullable = true)\n",
      " |-- predictor: string (nullable = true)\n",
      "\n"
     ]
    }
   ],
   "source": [
    "train.printSchema()"
   ]
  },
  {
   "cell_type": "code",
   "execution_count": 45,
   "metadata": {},
   "outputs": [
    {
     "name": "stdout",
     "output_type": "stream",
     "text": [
      "root\n",
      " |-- userId: integer (nullable = true)\n",
      " |-- trackId: integer (nullable = true)\n",
      " |-- track_rating: integer (nullable = true)\n",
      " |-- album_rating: integer (nullable = true)\n",
      " |-- artist_rating: integer (nullable = true)\n",
      " |-- num_genres: integer (nullable = true)\n",
      " |-- predictor: integer (nullable = true)\n",
      "\n"
     ]
    }
   ],
   "source": [
    "from pyspark.sql.types import IntegerType\n",
    "\n",
    "train = train.withColumn('userId', train['userId'].cast(IntegerType()))\n",
    "train = train.withColumn('trackId', train['trackId'].cast(IntegerType()))\n",
    "train = train.withColumn('track_rating', train['track_rating'].cast(IntegerType()))\n",
    "train = train.withColumn('album_rating', train['album_rating'].cast(IntegerType()))\n",
    "train = train.withColumn('artist_rating', train['artist_rating'].cast(IntegerType()))\n",
    "train = train.withColumn('num_genres', train['num_genres'].cast(IntegerType()))\n",
    "train = train.withColumn('predictor', train['predictor'].cast(IntegerType()))\n",
    "\n",
    "train.printSchema()"
   ]
  },
  {
   "cell_type": "code",
   "execution_count": 48,
   "metadata": {},
   "outputs": [],
   "source": [
    "from pyspark.ml.feature import VectorAssembler\n",
    "\n",
    "assembler = VectorAssembler(inputCols=['track_rating','album_rating', 'artist_rating', 'num_genres'],\n",
    "                           outputCol= 'features')"
   ]
  },
  {
   "cell_type": "code",
   "execution_count": 49,
   "metadata": {},
   "outputs": [
    {
     "name": "stdout",
     "output_type": "stream",
     "text": [
      "root\n",
      " |-- userId: integer (nullable = true)\n",
      " |-- trackId: integer (nullable = true)\n",
      " |-- track_rating: integer (nullable = true)\n",
      " |-- album_rating: integer (nullable = true)\n",
      " |-- artist_rating: integer (nullable = true)\n",
      " |-- num_genres: integer (nullable = true)\n",
      " |-- predictor: integer (nullable = true)\n",
      " |-- features: vector (nullable = true)\n",
      "\n"
     ]
    }
   ],
   "source": [
    "from pyspark.ml import Pipeline\n",
    "\n",
    "pipeline=Pipeline(stages=[assembler])\n",
    "model=pipeline.fit(train)\n",
    "df=model.transform(train)\n",
    "selectedCols = ['userId', 'trackId', 'track_rating', 'album_rating', 'artist_rating', 'num_genres', 'predictor']\n",
    "train = train.select(selectedCols)\n",
    "\n",
    "df.printSchema()"
   ]
  },
  {
   "cell_type": "code",
   "execution_count": 50,
   "metadata": {},
   "outputs": [
    {
     "name": "stdout",
     "output_type": "stream",
     "text": [
      "Training Dataset Count: 4849\n",
      "Test Dataset Count: 1151\n"
     ]
    }
   ],
   "source": [
    "train_1, test_1 = train.randomSplit([0.8, 0.2], seed=2018)\n",
    "print('Training Dataset Count: '+str(train_1.count()))\n",
    "print('Test Dataset Count: '+str(test_1.count()))"
   ]
  },
  {
   "cell_type": "code",
   "execution_count": 51,
   "metadata": {},
   "outputs": [
    {
     "name": "stdout",
     "output_type": "stream",
     "text": [
      "+------+-------+------------+------------+-------------+----------+---------+--------------------+--------------------+----------+\n",
      "|userId|trackId|track_rating|album_rating|artist_rating|num_genres|predictor|            features|       rawPrediction|prediction|\n",
      "+------+-------+------------+------------+-------------+----------+---------+--------------------+--------------------+----------+\n",
      "|200124| 162126|           9|          10|           11|        18|        0|[9.0,10.0,11.0,18.0]|[0.91329781098420...|       0.0|\n",
      "|200400| 263168|          71|         100|           67|        20|        0|[71.0,100.0,67.0,...|[-0.4889375612679...|       1.0|\n",
      "|200497|  41473|          87|          78|            0|        20|        1|[87.0,78.0,0.0,20.0]|[0.50229833326494...|       0.0|\n",
      "|200561|  22468|          54|          54|           59|        19|        1|[54.0,54.0,59.0,1...|[-0.0899038323214...|       1.0|\n",
      "|200795| 133020|         135|         104|          108|        19|        0|[135.0,104.0,108....|[-1.3176074426338...|       1.0|\n",
      "+------+-------+------------+------------+-------------+----------+---------+--------------------+--------------------+----------+\n",
      "only showing top 5 rows\n",
      "\n"
     ]
    }
   ],
   "source": [
    "from pyspark.ml.classification import LinearSVC\n",
    "lsvc = LinearSVC(labelCol = 'predictor',maxIter=10, regParam=0.1)\n",
    "lsvcModel = lsvc.fit(df)\n",
    "predictions = lsvcModel.transform(df)\n",
    "predictions.show(5)"
   ]
  },
  {
   "cell_type": "code",
   "execution_count": 52,
   "metadata": {},
   "outputs": [
    {
     "name": "stdout",
     "output_type": "stream",
     "text": [
      "Test Area Under ROC: 0.5894368333333334\n"
     ]
    }
   ],
   "source": [
    "from pyspark.ml.evaluation import BinaryClassificationEvaluator\n",
    "evaluator = BinaryClassificationEvaluator(labelCol='predictor')\n",
    "print(\"Test Area Under ROC: \" + str(evaluator.evaluate(predictions)))"
   ]
  },
  {
   "cell_type": "code",
   "execution_count": null,
   "metadata": {},
   "outputs": [],
   "source": []
  }
 ],
 "metadata": {
  "kernelspec": {
   "display_name": "Python 3",
   "language": "python",
   "name": "python3"
  },
  "language_info": {
   "codemirror_mode": {
    "name": "ipython",
    "version": 3
   },
   "file_extension": ".py",
   "mimetype": "text/x-python",
   "name": "python",
   "nbconvert_exporter": "python",
   "pygments_lexer": "ipython3",
   "version": "3.6.11"
  }
 },
 "nbformat": 4,
 "nbformat_minor": 4
}
