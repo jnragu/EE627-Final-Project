{
 "cells": [
  {
   "cell_type": "markdown",
   "metadata": {},
   "source": [
    "# ALS"
   ]
  },
  {
   "cell_type": "markdown",
   "metadata": {},
   "source": [
    "## Create Spark Session"
   ]
  },
  {
   "cell_type": "code",
   "execution_count": 87,
   "metadata": {},
   "outputs": [],
   "source": [
    "import findspark\n",
    "findspark.init()\n",
    "\n",
    "from pyspark.sql import SparkSession\n",
    "\n",
    "spark = SparkSession\\\n",
    "        .builder\\\n",
    "        .master('local[*]')\\\n",
    "        .appName('Homework9Part1')\\\n",
    "        .config('spark.driver.maxResultSize', '10g')\\\n",
    "        .config('spark.executor.memory' ,'10g')\\\n",
    "        .config('spark.driver.memory', '10g')\\\n",
    "        .getOrCreate()\n",
    "\n",
    "from pyspark import SparkContext\n",
    "sc = SparkContext.getOrCreate()"
   ]
  },
  {
   "cell_type": "markdown",
   "metadata": {},
   "source": [
    "## Import the train and test dataset\n",
    "* Train: `trainIdx2_matrix.txt`\n",
    "* Test: `testTrack_hierarchy.txt`"
   ]
  },
  {
   "cell_type": "code",
   "execution_count": 88,
   "metadata": {},
   "outputs": [
    {
     "name": "stdout",
     "output_type": "stream",
     "text": [
      "root\n",
      " |-- userId: integer (nullable = true)\n",
      " |-- itemId: integer (nullable = true)\n",
      " |-- rating: double (nullable = true)\n",
      "\n"
     ]
    }
   ],
   "source": [
    "from pyspark.sql.types import StructType, StructField, IntegerType, DoubleType\n",
    "\n",
    "train_schema = StructType([\n",
    "    StructField('userId', IntegerType()),\n",
    "    StructField('itemId', IntegerType()),\n",
    "    StructField('rating', DoubleType())\n",
    "])\n",
    "\n",
    "train = spark.read.csv('RawData/trainIdx2_matrix.txt',\n",
    "                       sep='|',\n",
    "                       header=False,\n",
    "                       schema=train_schema\n",
    "                      )\n",
    "\n",
    "train.printSchema()"
   ]
  },
  {
   "cell_type": "code",
   "execution_count": 89,
   "metadata": {},
   "outputs": [
    {
     "name": "stdout",
     "output_type": "stream",
     "text": [
      "+------+------+------+\n",
      "|userId|itemId|rating|\n",
      "+------+------+------+\n",
      "|199808|248969|  90.0|\n",
      "|199808|  2663|  90.0|\n",
      "|199808| 28341|  90.0|\n",
      "|199808| 42563|  90.0|\n",
      "|199808| 59092|  90.0|\n",
      "+------+------+------+\n",
      "only showing top 5 rows\n",
      "\n"
     ]
    }
   ],
   "source": [
    "train.show(5)"
   ]
  },
  {
   "cell_type": "code",
   "execution_count": 90,
   "metadata": {},
   "outputs": [
    {
     "name": "stdout",
     "output_type": "stream",
     "text": [
      "root\n",
      " |-- userId: integer (nullable = true)\n",
      " |-- trackId: integer (nullable = true)\n",
      " |-- albumId: integer (nullable = true)\n",
      " |-- artistId: integer (nullable = true)\n",
      " |-- genreId_1: integer (nullable = true)\n",
      " |-- genreId_2: integer (nullable = true)\n",
      " |-- genreId_3: integer (nullable = true)\n",
      " |-- genreId_4: integer (nullable = true)\n",
      " |-- genreId_5: integer (nullable = true)\n",
      " |-- genreId_6: integer (nullable = true)\n",
      " |-- genreId_7: integer (nullable = true)\n",
      " |-- genreId_8: integer (nullable = true)\n",
      " |-- genreId_9: integer (nullable = true)\n",
      " |-- genreId_10: integer (nullable = true)\n",
      " |-- genreId_11: integer (nullable = true)\n",
      " |-- genreId_12: integer (nullable = true)\n",
      " |-- genreId_13: integer (nullable = true)\n",
      " |-- genreId_14: integer (nullable = true)\n",
      " |-- genreId_15: integer (nullable = true)\n",
      " |-- genreId_16: integer (nullable = true)\n",
      " |-- genreId_17: integer (nullable = true)\n",
      " |-- genreId_18: integer (nullable = true)\n",
      " |-- genreId_19: integer (nullable = true)\n",
      " |-- genreId_20: integer (nullable = true)\n",
      " |-- genreId_21: integer (nullable = true)\n",
      "\n"
     ]
    }
   ],
   "source": [
    "test_schema = StructType([\n",
    "    StructField('userId', IntegerType()),\n",
    "    StructField('trackId', IntegerType()),\n",
    "    StructField('albumId', IntegerType()),\n",
    "    StructField('artistId', IntegerType()),\n",
    "    StructField('genreId_1', IntegerType()),\n",
    "    StructField('genreId_2', IntegerType()),\n",
    "    StructField('genreId_3', IntegerType()),\n",
    "    StructField('genreId_4', IntegerType()),\n",
    "    StructField('genreId_5', IntegerType()),\n",
    "    StructField('genreId_6', IntegerType()),\n",
    "    StructField('genreId_7', IntegerType()),\n",
    "    StructField('genreId_8', IntegerType()),\n",
    "    StructField('genreId_9', IntegerType()),\n",
    "    StructField('genreId_10', IntegerType()),\n",
    "    StructField('genreId_11', IntegerType()),\n",
    "    StructField('genreId_12', IntegerType()),\n",
    "    StructField('genreId_13', IntegerType()),\n",
    "    StructField('genreId_14', IntegerType()),\n",
    "    StructField('genreId_15', IntegerType()),\n",
    "    StructField('genreId_16', IntegerType()),\n",
    "    StructField('genreId_17', IntegerType()),\n",
    "    StructField('genreId_18', IntegerType()),\n",
    "    StructField('genreId_19', IntegerType()),\n",
    "    StructField('genreId_20', IntegerType()),\n",
    "    StructField('genreId_21', IntegerType()),\n",
    "])\n",
    "\n",
    "test = spark.read.csv('RawData/testTrack_hierarchy.txt',\n",
    "                     sep='|',\n",
    "                     nullValue='None',\n",
    "                     header=False,\n",
    "                     schema=test_schema)\n",
    "\n",
    "test.printSchema()"
   ]
  },
  {
   "cell_type": "code",
   "execution_count": 91,
   "metadata": {},
   "outputs": [
    {
     "name": "stdout",
     "output_type": "stream",
     "text": [
      "+------+-------+--------+---------+---------+---------+---------+---------+\n",
      "|userId|trackId|artistId|genreId_1|genreId_2|genreId_3|genreId_4|genreId_5|\n",
      "+------+-------+--------+---------+---------+---------+---------+---------+\n",
      "|199810| 208019|    null|     null|     null|     null|     null|     null|\n",
      "|199810|  74139|  271146|   113360|   173467|   173655|   192976|   146792|\n",
      "|199810|   9903|    null|    33722|   123396|    79926|    73523|     null|\n",
      "|199810| 242681|  244574|    61215|    17453|   274088|     null|     null|\n",
      "|199810|  18515|   33168|    19913|    48505|   154024|     null|     null|\n",
      "+------+-------+--------+---------+---------+---------+---------+---------+\n",
      "only showing top 5 rows\n",
      "\n"
     ]
    }
   ],
   "source": [
    "test.select('userId', 'trackId', 'artistId', 'genreId_1', 'genreId_2', 'genreId_3', 'genreId_4', 'genreId_5').show(5)"
   ]
  },
  {
   "cell_type": "markdown",
   "metadata": {},
   "source": [
    "## Only include the userIds that exist in the test dataset within the train dataset for the ALS model"
   ]
  },
  {
   "cell_type": "markdown",
   "metadata": {},
   "source": [
    "### Get unique users"
   ]
  },
  {
   "cell_type": "code",
   "execution_count": 92,
   "metadata": {},
   "outputs": [
    {
     "name": "stdout",
     "output_type": "stream",
     "text": [
      "+------+\n",
      "|userId|\n",
      "+------+\n",
      "|199855|\n",
      "|199976|\n",
      "|200166|\n",
      "|200625|\n",
      "|200878|\n",
      "+------+\n",
      "only showing top 5 rows\n",
      "\n",
      "The number of unique users:  20000\n"
     ]
    }
   ],
   "source": [
    "test_unique_users = test.select('userId').distinct().coalesce(1)\n",
    "\n",
    "test_unique_users.show(5)\n",
    "print('The number of unique users: ', test_unique_users.count())"
   ]
  },
  {
   "cell_type": "markdown",
   "metadata": {},
   "source": [
    "### Filter the trainset to only include userIds that are included within the test dataset"
   ]
  },
  {
   "cell_type": "code",
   "execution_count": 93,
   "metadata": {},
   "outputs": [],
   "source": [
    "from pyspark.sql.functions import col\n",
    "\n",
    "train = train.toPandas()\n",
    "\n",
    "train = train[train.userId.isin(test_unique_users.toPandas().userId)]\n",
    "\n",
    "train = spark.createDataFrame(train).repartition('userId')"
   ]
  },
  {
   "cell_type": "code",
   "execution_count": 94,
   "metadata": {},
   "outputs": [
    {
     "name": "stdout",
     "output_type": "stream",
     "text": [
      "root\n",
      " |-- userId: long (nullable = true)\n",
      " |-- itemId: long (nullable = true)\n",
      " |-- rating: double (nullable = true)\n",
      "\n"
     ]
    }
   ],
   "source": [
    "train.printSchema()"
   ]
  },
  {
   "cell_type": "code",
   "execution_count": 95,
   "metadata": {},
   "outputs": [
    {
     "name": "stdout",
     "output_type": "stream",
     "text": [
      "+------+------+------+\n",
      "|userId|itemId|rating|\n",
      "+------+------+------+\n",
      "|200309| 88934| 100.0|\n",
      "|200309|293425| 100.0|\n",
      "|200309| 69014|  10.0|\n",
      "|200309| 28342|  80.0|\n",
      "|200309| 28964|  80.0|\n",
      "+------+------+------+\n",
      "only showing top 5 rows\n",
      "\n"
     ]
    }
   ],
   "source": [
    "train.show(5)"
   ]
  },
  {
   "cell_type": "markdown",
   "metadata": {},
   "source": [
    "## Train data summary statistics"
   ]
  },
  {
   "cell_type": "code",
   "execution_count": 96,
   "metadata": {},
   "outputs": [
    {
     "name": "stdout",
     "output_type": "stream",
     "text": [
      "+-------+------------------+-----------------+------------------+\n",
      "|summary|            userId|           itemId|            rating|\n",
      "+-------+------------------+-----------------+------------------+\n",
      "|  count|          10643437|         10643437|          10643437|\n",
      "|   mean|224380.43626321084|149126.9231043506|47.600189769526516|\n",
      "| stddev|14393.139199046373| 85467.7984951211|37.996779529988316|\n",
      "|    min|            199810|                0|               0.0|\n",
      "|    max|            249010|           296110|             100.0|\n",
      "+-------+------------------+-----------------+------------------+\n",
      "\n"
     ]
    }
   ],
   "source": [
    "train.describe().show()"
   ]
  },
  {
   "cell_type": "markdown",
   "metadata": {},
   "source": [
    "## Build ALS Model"
   ]
  },
  {
   "cell_type": "code",
   "execution_count": 97,
   "metadata": {},
   "outputs": [],
   "source": [
    "from pyspark.ml.recommendation import ALS\n",
    "\n",
    "als = ALS(userCol='userId', \n",
    "          itemCol='itemId',\n",
    "          ratingCol='rating', \n",
    "          rank=5,\n",
    "          maxIter= 5,\n",
    "          regParam=0.01,\n",
    "          nonnegative = True, \n",
    "          implicitPrefs = False)"
   ]
  },
  {
   "cell_type": "markdown",
   "metadata": {},
   "source": [
    "### Train the best model"
   ]
  },
  {
   "cell_type": "code",
   "execution_count": 98,
   "metadata": {},
   "outputs": [],
   "source": [
    "model = als.fit(train)"
   ]
  },
  {
   "cell_type": "code",
   "execution_count": 99,
   "metadata": {},
   "outputs": [],
   "source": [
    "train_results = model.transform(train)"
   ]
  },
  {
   "cell_type": "code",
   "execution_count": 100,
   "metadata": {},
   "outputs": [
    {
     "name": "stdout",
     "output_type": "stream",
     "text": [
      "+------+------+------+----------+\n",
      "|userId|itemId|rating|prediction|\n",
      "+------+------+------+----------+\n",
      "|205890|   148|  90.0|  71.39319|\n",
      "|216277|   148|  90.0|  67.19637|\n",
      "|241707|   148|  60.0| 61.770355|\n",
      "|226963|   148|  90.0|  83.08943|\n",
      "|206707|   148|  70.0| 65.531624|\n",
      "+------+------+------+----------+\n",
      "only showing top 5 rows\n",
      "\n"
     ]
    }
   ],
   "source": [
    "train_results.show(5)"
   ]
  },
  {
   "cell_type": "markdown",
   "metadata": {},
   "source": [
    "### Training summary"
   ]
  },
  {
   "cell_type": "code",
   "execution_count": 15,
   "metadata": {},
   "outputs": [
    {
     "name": "stdout",
     "output_type": "stream",
     "text": [
      "RMSE:  28.15705746813551\n"
     ]
    }
   ],
   "source": [
    "from pyspark.ml.evaluation import RegressionEvaluator\n",
    "\n",
    "evaluator = RegressionEvaluator(metricName='rmse', labelCol='rating', predictionCol='prediction')\n",
    "\n",
    "print('RMSE: ', evaluator.evaluate(train_results))"
   ]
  },
  {
   "cell_type": "code",
   "execution_count": 16,
   "metadata": {},
   "outputs": [
    {
     "name": "stdout",
     "output_type": "stream",
     "text": [
      "+-------+------------------+\n",
      "|summary|            rating|\n",
      "+-------+------------------+\n",
      "|  count|          10643437|\n",
      "|   mean|47.600189769526516|\n",
      "| stddev|  37.9967795299883|\n",
      "|    min|               0.0|\n",
      "|    max|             100.0|\n",
      "+-------+------------------+\n",
      "\n"
     ]
    }
   ],
   "source": [
    "train_results.select('rating').describe().show()"
   ]
  },
  {
   "cell_type": "markdown",
   "metadata": {},
   "source": [
    "## Make predictions for track, album, and artist on the test data"
   ]
  },
  {
   "cell_type": "markdown",
   "metadata": {},
   "source": [
    "### Check for null values within `trackId`, `albumId`, and `artistId` columns"
   ]
  },
  {
   "cell_type": "code",
   "execution_count": 17,
   "metadata": {},
   "outputs": [
    {
     "name": "stdout",
     "output_type": "stream",
     "text": [
      "Number of null trackId:  0\n",
      "Number of null albumId:  8572\n",
      "Number of null artistId:  10891\n"
     ]
    }
   ],
   "source": [
    "print('Number of null trackId: ', test.filter('trackId IS NULL').count())\n",
    "print('Number of null albumId: ', test.filter('albumId IS NULL').count())\n",
    "print('Number of null artistId: ', test.filter('artistId IS NULL').count())"
   ]
  },
  {
   "cell_type": "markdown",
   "metadata": {},
   "source": [
    "### Make predictions on track ratings"
   ]
  },
  {
   "cell_type": "code",
   "execution_count": 18,
   "metadata": {},
   "outputs": [],
   "source": [
    "prediction_track = model.setItemCol('trackId').transform(test)"
   ]
  },
  {
   "cell_type": "markdown",
   "metadata": {},
   "source": [
    "### Make predictions on album ratings"
   ]
  },
  {
   "cell_type": "code",
   "execution_count": 19,
   "metadata": {},
   "outputs": [],
   "source": [
    "prediction_album = model.setItemCol('albumId').transform(test.filter('albumId IS NOT NULL'))"
   ]
  },
  {
   "cell_type": "markdown",
   "metadata": {},
   "source": [
    "### Make predictions on artist ratings "
   ]
  },
  {
   "cell_type": "code",
   "execution_count": 20,
   "metadata": {},
   "outputs": [],
   "source": [
    "prediction_artist = model.setItemCol('artistId').transform(test.filter('artistId IS NOT NULL'))"
   ]
  },
  {
   "cell_type": "markdown",
   "metadata": {},
   "source": [
    "## Add all ratings to the same dataframe, `predictions`"
   ]
  },
  {
   "cell_type": "code",
   "execution_count": 21,
   "metadata": {},
   "outputs": [],
   "source": [
    "from pyspark.sql.types import IntegerType\n",
    "\n",
    "predictions = test.select('userId', 'trackId')\n",
    "\n",
    "predictions = predictions.join(prediction_track.select('userId', 'trackId', 'prediction'), ['userId', 'trackId'], 'left')\n",
    "predictions = predictions.withColumn('prediction', predictions['prediction'].cast(IntegerType()))\\\n",
    "                         .withColumnRenamed('prediction', 'track_rating')"
   ]
  },
  {
   "cell_type": "code",
   "execution_count": 22,
   "metadata": {},
   "outputs": [],
   "source": [
    "predictions = predictions.join(prediction_album.select('userId', 'trackId', 'prediction'), ['userId', 'trackId'], 'left')\n",
    "\n",
    "predictions = predictions.withColumn('prediction', predictions['prediction'].cast(IntegerType()))\\\n",
    "                         .withColumnRenamed('prediction', 'album_rating')"
   ]
  },
  {
   "cell_type": "code",
   "execution_count": 23,
   "metadata": {},
   "outputs": [],
   "source": [
    "predictions = predictions.join(prediction_artist.select('userId', 'trackId', 'prediction'), ['userId', 'trackId'], 'left')\n",
    "\n",
    "predictions = predictions.withColumn('prediction', predictions['prediction'].cast(IntegerType()))\\\n",
    "                         .withColumnRenamed('prediction', 'artist_rating')"
   ]
  },
  {
   "cell_type": "code",
   "execution_count": 24,
   "metadata": {},
   "outputs": [
    {
     "name": "stdout",
     "output_type": "stream",
     "text": [
      "+------+-------+------------+------------+-------------+\n",
      "|userId|trackId|track_rating|album_rating|artist_rating|\n",
      "+------+-------+------------+------------+-------------+\n",
      "|200072|  29894|          75|          73|           76|\n",
      "|200124| 162126|           9|          10|           11|\n",
      "|200174| 137908|          25|          40|           35|\n",
      "|200400| 263168|          71|         100|           67|\n",
      "|200427|  82634|          10|          85|          116|\n",
      "+------+-------+------------+------------+-------------+\n",
      "only showing top 5 rows\n",
      "\n"
     ]
    }
   ],
   "source": [
    "predictions.show(5)"
   ]
  },
  {
   "cell_type": "markdown",
   "metadata": {},
   "source": [
    "### Check for null values within the `track_rating`, `album_rating`, and `artist_rating`"
   ]
  },
  {
   "cell_type": "code",
   "execution_count": 25,
   "metadata": {},
   "outputs": [
    {
     "name": "stdout",
     "output_type": "stream",
     "text": [
      "Number of null track_rating:  0\n",
      "Number of null album_rating:  8572\n",
      "Number of null artist_rating:  10891\n"
     ]
    }
   ],
   "source": [
    "print('Number of null track_rating: ', predictions.filter('track_rating IS NULL').count())\n",
    "print('Number of null album_rating: ', predictions.filter('album_rating IS NULL').count())\n",
    "print('Number of null artist_rating: ', predictions.filter('artist_rating IS NULL').count())"
   ]
  },
  {
   "cell_type": "markdown",
   "metadata": {},
   "source": [
    "### Replace null values within `album_rating` and `artist_rating` with `0`"
   ]
  },
  {
   "cell_type": "code",
   "execution_count": 26,
   "metadata": {},
   "outputs": [],
   "source": [
    "predictions = predictions.na.fill(0)"
   ]
  },
  {
   "cell_type": "markdown",
   "metadata": {},
   "source": [
    "## Count the number of genres per userId-trackId pair"
   ]
  },
  {
   "cell_type": "code",
   "execution_count": 27,
   "metadata": {},
   "outputs": [],
   "source": [
    "test_genres = test.select('userId', \n",
    "                          'trackId', \n",
    "                          'genreId_1', \n",
    "                          'genreId_2', \n",
    "                          'genreId_3', \n",
    "                          'genreId_4', \n",
    "                          'genreId_5', \n",
    "                          'genreId_6', \n",
    "                          'genreId_7', \n",
    "                          'genreId_8', \n",
    "                          'genreId_9', \n",
    "                          'genreId_10', \n",
    "                          'genreId_11', \n",
    "                          'genreId_12', \n",
    "                          'genreId_13', \n",
    "                          'genreId_14',\n",
    "                          'genreId_15',\n",
    "                          'genreId_16',\n",
    "                          'genreId_17',\n",
    "                          'genreId_18',\n",
    "                          'genreId_19',\n",
    "                          'genreId_20',\n",
    "                          'genreId_21')"
   ]
  },
  {
   "cell_type": "code",
   "execution_count": 28,
   "metadata": {},
   "outputs": [],
   "source": [
    "from pyspark.sql.functions import isnull\n",
    "\n",
    "num_genres = test_genres.select('userId', 'trackId', sum([isnull(test_genres[col]).cast(IntegerType()) for col in test_genres.columns]).alias('num_genres'))"
   ]
  },
  {
   "cell_type": "code",
   "execution_count": 29,
   "metadata": {},
   "outputs": [
    {
     "name": "stdout",
     "output_type": "stream",
     "text": [
      "+------+-------+----------+\n",
      "|userId|trackId|num_genres|\n",
      "+------+-------+----------+\n",
      "|199810| 208019|        21|\n",
      "|199810|  74139|        14|\n",
      "|199810|   9903|        17|\n",
      "|199810| 242681|        18|\n",
      "|199810|  18515|        18|\n",
      "+------+-------+----------+\n",
      "only showing top 5 rows\n",
      "\n"
     ]
    }
   ],
   "source": [
    "num_genres.show(5)"
   ]
  },
  {
   "cell_type": "markdown",
   "metadata": {},
   "source": [
    "### Add the number of genres into `predictions` dataframe, "
   ]
  },
  {
   "cell_type": "code",
   "execution_count": 30,
   "metadata": {},
   "outputs": [],
   "source": [
    "predictions = predictions.join(num_genres, ['userId', 'trackId'], 'left')"
   ]
  },
  {
   "cell_type": "code",
   "execution_count": 31,
   "metadata": {},
   "outputs": [
    {
     "name": "stdout",
     "output_type": "stream",
     "text": [
      "+------+-------+------------+------------+-------------+----------+\n",
      "|userId|trackId|track_rating|album_rating|artist_rating|num_genres|\n",
      "+------+-------+------------+------------+-------------+----------+\n",
      "|200072|  29894|          75|          73|           76|        16|\n",
      "|200124| 162126|           9|          10|           11|        18|\n",
      "|200174| 137908|          25|          40|           35|        16|\n",
      "|200400| 263168|          71|         100|           67|        20|\n",
      "|200427|  82634|          10|          85|          116|        18|\n",
      "+------+-------+------------+------------+-------------+----------+\n",
      "only showing top 5 rows\n",
      "\n"
     ]
    }
   ],
   "source": [
    "predictions.show(5)"
   ]
  },
  {
   "cell_type": "markdown",
   "metadata": {},
   "source": [
    "## Write `predictions` to csv"
   ]
  },
  {
   "cell_type": "code",
   "execution_count": 32,
   "metadata": {},
   "outputs": [],
   "source": [
    "predictions.coalesce(1).write.csv('Data/ratings.csv', header=True)"
   ]
  },
  {
   "cell_type": "markdown",
   "metadata": {},
   "source": [
    "# Create the train matrix that has the same structure of the test data"
   ]
  },
  {
   "cell_type": "code",
   "execution_count": 9,
   "metadata": {},
   "outputs": [],
   "source": [
    "import pandas as pd \n",
    "\n",
    "train2 = pd.read_csv('RawData/trainIdx2_matrix.txt', header=None, sep='|', names=['userId', 'itemId', 'rating'] )"
   ]
  },
  {
   "cell_type": "code",
   "execution_count": 10,
   "metadata": {},
   "outputs": [
    {
     "data": {
      "text/html": [
       "<div>\n",
       "<style scoped>\n",
       "    .dataframe tbody tr th:only-of-type {\n",
       "        vertical-align: middle;\n",
       "    }\n",
       "\n",
       "    .dataframe tbody tr th {\n",
       "        vertical-align: top;\n",
       "    }\n",
       "\n",
       "    .dataframe thead th {\n",
       "        text-align: right;\n",
       "    }\n",
       "</style>\n",
       "<table border=\"1\" class=\"dataframe\">\n",
       "  <thead>\n",
       "    <tr style=\"text-align: right;\">\n",
       "      <th></th>\n",
       "      <th>userId</th>\n",
       "      <th>itemId</th>\n",
       "      <th>rating</th>\n",
       "    </tr>\n",
       "  </thead>\n",
       "  <tbody>\n",
       "    <tr>\n",
       "      <th>0</th>\n",
       "      <td>199808</td>\n",
       "      <td>248969</td>\n",
       "      <td>90</td>\n",
       "    </tr>\n",
       "    <tr>\n",
       "      <th>1</th>\n",
       "      <td>199808</td>\n",
       "      <td>2663</td>\n",
       "      <td>90</td>\n",
       "    </tr>\n",
       "    <tr>\n",
       "      <th>2</th>\n",
       "      <td>199808</td>\n",
       "      <td>28341</td>\n",
       "      <td>90</td>\n",
       "    </tr>\n",
       "    <tr>\n",
       "      <th>3</th>\n",
       "      <td>199808</td>\n",
       "      <td>42563</td>\n",
       "      <td>90</td>\n",
       "    </tr>\n",
       "    <tr>\n",
       "      <th>4</th>\n",
       "      <td>199808</td>\n",
       "      <td>59092</td>\n",
       "      <td>90</td>\n",
       "    </tr>\n",
       "  </tbody>\n",
       "</table>\n",
       "</div>"
      ],
      "text/plain": [
       "   userId  itemId  rating\n",
       "0  199808  248969      90\n",
       "1  199808    2663      90\n",
       "2  199808   28341      90\n",
       "3  199808   42563      90\n",
       "4  199808   59092      90"
      ]
     },
     "execution_count": 10,
     "metadata": {},
     "output_type": "execute_result"
    }
   ],
   "source": [
    "train2.head()"
   ]
  },
  {
   "cell_type": "code",
   "execution_count": 11,
   "metadata": {},
   "outputs": [],
   "source": [
    "trackIds = pd.read_csv('RawData/trackData2.txt', sep='|', usecols=[0], header=None, names=['trackId'])\n",
    "albumIds = pd.read_csv('RawData/albumData2.txt', sep='|', usecols=[0], header=None, names=['albumId'])\n",
    "artistIds = pd.read_csv('RawData/artistData2.txt', sep='|', usecols=[0], header=None, names=['artistId'])\n",
    "genreIds = pd.read_csv('RawData/genreData2.txt', sep='|', usecols=[0], header=None, names=['genreId'])"
   ]
  },
  {
   "cell_type": "markdown",
   "metadata": {},
   "source": [
    "## Classify whether the itemId within the trainset is a track, album, artist, or genre"
   ]
  },
  {
   "cell_type": "code",
   "execution_count": 12,
   "metadata": {},
   "outputs": [],
   "source": [
    "train_tracks = train2[train2.itemId.isin(trackIds.trackId)]\n",
    "train_albums = train2[train2.itemId.isin(albumIds.albumId)]\n",
    "train_artists = train2[train2.itemId.isin(artistIds.artistId)]\n",
    "train_genres = train2[train2.itemId.isin(genreIds.genreId)]"
   ]
  },
  {
   "cell_type": "code",
   "execution_count": 13,
   "metadata": {},
   "outputs": [],
   "source": [
    "train_tracks = train_tracks.rename(columns = {'rating': 'track_rating', 'itemId': 'trackId'})\n",
    "train_albums = train_albums.rename(columns = {'rating': 'album_rating', 'itemId': 'albumId'})\n",
    "train_artists = train_artists.rename(columns = {'rating': 'artist_rating', 'itemId': 'artistId'})"
   ]
  },
  {
   "cell_type": "code",
   "execution_count": 14,
   "metadata": {},
   "outputs": [
    {
     "data": {
      "text/html": [
       "<div>\n",
       "<style scoped>\n",
       "    .dataframe tbody tr th:only-of-type {\n",
       "        vertical-align: middle;\n",
       "    }\n",
       "\n",
       "    .dataframe tbody tr th {\n",
       "        vertical-align: top;\n",
       "    }\n",
       "\n",
       "    .dataframe thead th {\n",
       "        text-align: right;\n",
       "    }\n",
       "</style>\n",
       "<table border=\"1\" class=\"dataframe\">\n",
       "  <thead>\n",
       "    <tr style=\"text-align: right;\">\n",
       "      <th></th>\n",
       "      <th>userId</th>\n",
       "      <th>trackId</th>\n",
       "      <th>track_rating</th>\n",
       "    </tr>\n",
       "  </thead>\n",
       "  <tbody>\n",
       "    <tr>\n",
       "      <th>87</th>\n",
       "      <td>199810</td>\n",
       "      <td>47420</td>\n",
       "      <td>90</td>\n",
       "    </tr>\n",
       "    <tr>\n",
       "      <th>88</th>\n",
       "      <td>199810</td>\n",
       "      <td>158436</td>\n",
       "      <td>50</td>\n",
       "    </tr>\n",
       "    <tr>\n",
       "      <th>89</th>\n",
       "      <td>199810</td>\n",
       "      <td>256008</td>\n",
       "      <td>70</td>\n",
       "    </tr>\n",
       "    <tr>\n",
       "      <th>90</th>\n",
       "      <td>199810</td>\n",
       "      <td>234891</td>\n",
       "      <td>70</td>\n",
       "    </tr>\n",
       "    <tr>\n",
       "      <th>130</th>\n",
       "      <td>199810</td>\n",
       "      <td>150186</td>\n",
       "      <td>70</td>\n",
       "    </tr>\n",
       "  </tbody>\n",
       "</table>\n",
       "</div>"
      ],
      "text/plain": [
       "     userId  trackId  track_rating\n",
       "87   199810    47420            90\n",
       "88   199810   158436            50\n",
       "89   199810   256008            70\n",
       "90   199810   234891            70\n",
       "130  199810   150186            70"
      ]
     },
     "execution_count": 14,
     "metadata": {},
     "output_type": "execute_result"
    }
   ],
   "source": [
    "train_tracks.head()"
   ]
  },
  {
   "cell_type": "code",
   "execution_count": 15,
   "metadata": {},
   "outputs": [
    {
     "data": {
      "text/html": [
       "<div>\n",
       "<style scoped>\n",
       "    .dataframe tbody tr th:only-of-type {\n",
       "        vertical-align: middle;\n",
       "    }\n",
       "\n",
       "    .dataframe tbody tr th {\n",
       "        vertical-align: top;\n",
       "    }\n",
       "\n",
       "    .dataframe thead th {\n",
       "        text-align: right;\n",
       "    }\n",
       "</style>\n",
       "<table border=\"1\" class=\"dataframe\">\n",
       "  <thead>\n",
       "    <tr style=\"text-align: right;\">\n",
       "      <th></th>\n",
       "      <th>userId</th>\n",
       "      <th>albumId</th>\n",
       "      <th>album_rating</th>\n",
       "    </tr>\n",
       "  </thead>\n",
       "  <tbody>\n",
       "    <tr>\n",
       "      <th>134</th>\n",
       "      <td>199810</td>\n",
       "      <td>26374</td>\n",
       "      <td>50</td>\n",
       "    </tr>\n",
       "    <tr>\n",
       "      <th>138</th>\n",
       "      <td>199810</td>\n",
       "      <td>204650</td>\n",
       "      <td>50</td>\n",
       "    </tr>\n",
       "    <tr>\n",
       "      <th>141</th>\n",
       "      <td>199810</td>\n",
       "      <td>9774</td>\n",
       "      <td>50</td>\n",
       "    </tr>\n",
       "    <tr>\n",
       "      <th>280</th>\n",
       "      <td>199811</td>\n",
       "      <td>271229</td>\n",
       "      <td>70</td>\n",
       "    </tr>\n",
       "    <tr>\n",
       "      <th>291</th>\n",
       "      <td>199812</td>\n",
       "      <td>112725</td>\n",
       "      <td>100</td>\n",
       "    </tr>\n",
       "  </tbody>\n",
       "</table>\n",
       "</div>"
      ],
      "text/plain": [
       "     userId  albumId  album_rating\n",
       "134  199810    26374            50\n",
       "138  199810   204650            50\n",
       "141  199810     9774            50\n",
       "280  199811   271229            70\n",
       "291  199812   112725           100"
      ]
     },
     "execution_count": 15,
     "metadata": {},
     "output_type": "execute_result"
    }
   ],
   "source": [
    "train_albums.head()"
   ]
  },
  {
   "cell_type": "code",
   "execution_count": 16,
   "metadata": {},
   "outputs": [
    {
     "data": {
      "text/html": [
       "<div>\n",
       "<style scoped>\n",
       "    .dataframe tbody tr th:only-of-type {\n",
       "        vertical-align: middle;\n",
       "    }\n",
       "\n",
       "    .dataframe tbody tr th {\n",
       "        vertical-align: top;\n",
       "    }\n",
       "\n",
       "    .dataframe thead th {\n",
       "        text-align: right;\n",
       "    }\n",
       "</style>\n",
       "<table border=\"1\" class=\"dataframe\">\n",
       "  <thead>\n",
       "    <tr style=\"text-align: right;\">\n",
       "      <th></th>\n",
       "      <th>userId</th>\n",
       "      <th>artistId</th>\n",
       "      <th>artist_rating</th>\n",
       "    </tr>\n",
       "  </thead>\n",
       "  <tbody>\n",
       "    <tr>\n",
       "      <th>0</th>\n",
       "      <td>199808</td>\n",
       "      <td>248969</td>\n",
       "      <td>90</td>\n",
       "    </tr>\n",
       "    <tr>\n",
       "      <th>1</th>\n",
       "      <td>199808</td>\n",
       "      <td>2663</td>\n",
       "      <td>90</td>\n",
       "    </tr>\n",
       "    <tr>\n",
       "      <th>2</th>\n",
       "      <td>199808</td>\n",
       "      <td>28341</td>\n",
       "      <td>90</td>\n",
       "    </tr>\n",
       "    <tr>\n",
       "      <th>3</th>\n",
       "      <td>199808</td>\n",
       "      <td>42563</td>\n",
       "      <td>90</td>\n",
       "    </tr>\n",
       "    <tr>\n",
       "      <th>4</th>\n",
       "      <td>199808</td>\n",
       "      <td>59092</td>\n",
       "      <td>90</td>\n",
       "    </tr>\n",
       "  </tbody>\n",
       "</table>\n",
       "</div>"
      ],
      "text/plain": [
       "   userId  artistId  artist_rating\n",
       "0  199808    248969             90\n",
       "1  199808      2663             90\n",
       "2  199808     28341             90\n",
       "3  199808     42563             90\n",
       "4  199808     59092             90"
      ]
     },
     "execution_count": 16,
     "metadata": {},
     "output_type": "execute_result"
    }
   ],
   "source": [
    "train_artists.head()"
   ]
  },
  {
   "cell_type": "markdown",
   "metadata": {},
   "source": [
    "## Get the hierarchy of the tracks and albums "
   ]
  },
  {
   "cell_type": "code",
   "execution_count": 17,
   "metadata": {},
   "outputs": [],
   "source": [
    "track_h = pd.read_csv('RawData/trackData2.txt', sep='|', header=None, na_values=['None'], names=['trackId', 'albumId', 'artistId', 'genreId_1', 'genreId_2', 'genreId_3', 'genreId_4', 'genreId_5', 'genreId_6', 'genreId_7', 'genreId_8', 'genreId_9', 'genreId_10', 'genreId_11', 'genreId_12', 'genreId_13', 'genreId_14', 'genreId_15', 'genreId_16', 'genreId_17', 'genreId_18', 'genreId_19', 'genreId_20', 'genreId_21'])\n",
    " \n",
    "album_h = pd.read_csv('RawData/albumData2.txt', sep='|', header=None, na_values=['None'], names=['albumId', 'artistId', 'genreId_1', 'genreId_2', 'genreId_3', 'genreId_4', 'genreId_5', 'genreId_6', 'genreId_7', 'genreId_8', 'genreId_9', 'genreId_10', 'genreId_11', 'genreId_12', 'genreId_13', 'genreId_14', 'genreId_15', 'genreId_16', 'genreId_17', 'genreId_18', 'genreId_19', 'genreId_20', 'genreId_21'])"
   ]
  },
  {
   "cell_type": "code",
   "execution_count": 18,
   "metadata": {},
   "outputs": [],
   "source": [
    "train_tracks_h = pd.merge(train_tracks, track_h, how='left', on='trackId')"
   ]
  },
  {
   "cell_type": "code",
   "execution_count": 19,
   "metadata": {},
   "outputs": [],
   "source": [
    "train_albums_h = pd.merge(train_albums, album_h, how='left', on='albumId')"
   ]
  },
  {
   "cell_type": "markdown",
   "metadata": {},
   "source": [
    "### Only keep the train albums seperate that are not already inside `train_tracks_h`"
   ]
  },
  {
   "cell_type": "code",
   "execution_count": 20,
   "metadata": {},
   "outputs": [],
   "source": [
    "train_albums_h = train_tracks_h[~train_tracks_h.albumId.isin(train_albums_h.albumId)]"
   ]
  },
  {
   "cell_type": "markdown",
   "metadata": {},
   "source": [
    "## For the `train_tracks_h` check to see if ratings exist in the other matrices"
   ]
  },
  {
   "cell_type": "code",
   "execution_count": 21,
   "metadata": {},
   "outputs": [],
   "source": [
    "track_rating_in_albums = train_albums[train_albums.albumId.isin(train_tracks_h.albumId)]"
   ]
  },
  {
   "cell_type": "code",
   "execution_count": 22,
   "metadata": {},
   "outputs": [
    {
     "data": {
      "text/html": [
       "<div>\n",
       "<style scoped>\n",
       "    .dataframe tbody tr th:only-of-type {\n",
       "        vertical-align: middle;\n",
       "    }\n",
       "\n",
       "    .dataframe tbody tr th {\n",
       "        vertical-align: top;\n",
       "    }\n",
       "\n",
       "    .dataframe thead th {\n",
       "        text-align: right;\n",
       "    }\n",
       "</style>\n",
       "<table border=\"1\" class=\"dataframe\">\n",
       "  <thead>\n",
       "    <tr style=\"text-align: right;\">\n",
       "      <th></th>\n",
       "      <th>userId</th>\n",
       "      <th>albumId</th>\n",
       "      <th>album_rating</th>\n",
       "    </tr>\n",
       "  </thead>\n",
       "  <tbody>\n",
       "    <tr>\n",
       "      <th>134</th>\n",
       "      <td>199810</td>\n",
       "      <td>26374</td>\n",
       "      <td>50</td>\n",
       "    </tr>\n",
       "    <tr>\n",
       "      <th>138</th>\n",
       "      <td>199810</td>\n",
       "      <td>204650</td>\n",
       "      <td>50</td>\n",
       "    </tr>\n",
       "    <tr>\n",
       "      <th>141</th>\n",
       "      <td>199810</td>\n",
       "      <td>9774</td>\n",
       "      <td>50</td>\n",
       "    </tr>\n",
       "    <tr>\n",
       "      <th>280</th>\n",
       "      <td>199811</td>\n",
       "      <td>271229</td>\n",
       "      <td>70</td>\n",
       "    </tr>\n",
       "    <tr>\n",
       "      <th>291</th>\n",
       "      <td>199812</td>\n",
       "      <td>112725</td>\n",
       "      <td>100</td>\n",
       "    </tr>\n",
       "  </tbody>\n",
       "</table>\n",
       "</div>"
      ],
      "text/plain": [
       "     userId  albumId  album_rating\n",
       "134  199810    26374            50\n",
       "138  199810   204650            50\n",
       "141  199810     9774            50\n",
       "280  199811   271229            70\n",
       "291  199812   112725           100"
      ]
     },
     "execution_count": 22,
     "metadata": {},
     "output_type": "execute_result"
    }
   ],
   "source": [
    "track_rating_in_albums.head()"
   ]
  },
  {
   "cell_type": "code",
   "execution_count": 23,
   "metadata": {},
   "outputs": [],
   "source": [
    "track_rating_in_artists = train_artists[train_artists.artistId.isin(train_tracks_h.artistId)]"
   ]
  },
  {
   "cell_type": "code",
   "execution_count": 24,
   "metadata": {},
   "outputs": [
    {
     "data": {
      "text/html": [
       "<div>\n",
       "<style scoped>\n",
       "    .dataframe tbody tr th:only-of-type {\n",
       "        vertical-align: middle;\n",
       "    }\n",
       "\n",
       "    .dataframe tbody tr th {\n",
       "        vertical-align: top;\n",
       "    }\n",
       "\n",
       "    .dataframe thead th {\n",
       "        text-align: right;\n",
       "    }\n",
       "</style>\n",
       "<table border=\"1\" class=\"dataframe\">\n",
       "  <thead>\n",
       "    <tr style=\"text-align: right;\">\n",
       "      <th></th>\n",
       "      <th>userId</th>\n",
       "      <th>artistId</th>\n",
       "      <th>artist_rating</th>\n",
       "    </tr>\n",
       "  </thead>\n",
       "  <tbody>\n",
       "    <tr>\n",
       "      <th>0</th>\n",
       "      <td>199808</td>\n",
       "      <td>248969</td>\n",
       "      <td>90</td>\n",
       "    </tr>\n",
       "    <tr>\n",
       "      <th>1</th>\n",
       "      <td>199808</td>\n",
       "      <td>2663</td>\n",
       "      <td>90</td>\n",
       "    </tr>\n",
       "    <tr>\n",
       "      <th>2</th>\n",
       "      <td>199808</td>\n",
       "      <td>28341</td>\n",
       "      <td>90</td>\n",
       "    </tr>\n",
       "    <tr>\n",
       "      <th>3</th>\n",
       "      <td>199808</td>\n",
       "      <td>42563</td>\n",
       "      <td>90</td>\n",
       "    </tr>\n",
       "    <tr>\n",
       "      <th>4</th>\n",
       "      <td>199808</td>\n",
       "      <td>59092</td>\n",
       "      <td>90</td>\n",
       "    </tr>\n",
       "  </tbody>\n",
       "</table>\n",
       "</div>"
      ],
      "text/plain": [
       "   userId  artistId  artist_rating\n",
       "0  199808    248969             90\n",
       "1  199808      2663             90\n",
       "2  199808     28341             90\n",
       "3  199808     42563             90\n",
       "4  199808     59092             90"
      ]
     },
     "execution_count": 24,
     "metadata": {},
     "output_type": "execute_result"
    }
   ],
   "source": [
    "track_rating_in_artists.head()"
   ]
  },
  {
   "cell_type": "markdown",
   "metadata": {},
   "source": [
    "### Combine the matrices together"
   ]
  },
  {
   "cell_type": "code",
   "execution_count": 25,
   "metadata": {},
   "outputs": [],
   "source": [
    "final = pd.merge(train_tracks_h, track_rating_in_albums, how='outer', on=['userId', 'albumId'])"
   ]
  },
  {
   "cell_type": "code",
   "execution_count": 26,
   "metadata": {},
   "outputs": [],
   "source": [
    "final = pd.merge(final, track_rating_in_artists, how='outer', on=['userId', 'artistId'])"
   ]
  },
  {
   "cell_type": "code",
   "execution_count": 27,
   "metadata": {},
   "outputs": [
    {
     "data": {
      "text/html": [
       "<div>\n",
       "<style scoped>\n",
       "    .dataframe tbody tr th:only-of-type {\n",
       "        vertical-align: middle;\n",
       "    }\n",
       "\n",
       "    .dataframe tbody tr th {\n",
       "        vertical-align: top;\n",
       "    }\n",
       "\n",
       "    .dataframe thead th {\n",
       "        text-align: right;\n",
       "    }\n",
       "</style>\n",
       "<table border=\"1\" class=\"dataframe\">\n",
       "  <thead>\n",
       "    <tr style=\"text-align: right;\">\n",
       "      <th></th>\n",
       "      <th>userId</th>\n",
       "      <th>trackId</th>\n",
       "      <th>track_rating</th>\n",
       "      <th>albumId</th>\n",
       "      <th>artistId</th>\n",
       "      <th>genreId_1</th>\n",
       "      <th>genreId_2</th>\n",
       "      <th>genreId_3</th>\n",
       "      <th>genreId_4</th>\n",
       "      <th>genreId_5</th>\n",
       "      <th>...</th>\n",
       "      <th>genreId_14</th>\n",
       "      <th>genreId_15</th>\n",
       "      <th>genreId_16</th>\n",
       "      <th>genreId_17</th>\n",
       "      <th>genreId_18</th>\n",
       "      <th>genreId_19</th>\n",
       "      <th>genreId_20</th>\n",
       "      <th>genreId_21</th>\n",
       "      <th>album_rating</th>\n",
       "      <th>artist_rating</th>\n",
       "    </tr>\n",
       "  </thead>\n",
       "  <tbody>\n",
       "    <tr>\n",
       "      <th>0</th>\n",
       "      <td>199810</td>\n",
       "      <td>47420.0</td>\n",
       "      <td>90.0</td>\n",
       "      <td>190891.0</td>\n",
       "      <td>22907.0</td>\n",
       "      <td>243099.0</td>\n",
       "      <td>NaN</td>\n",
       "      <td>NaN</td>\n",
       "      <td>NaN</td>\n",
       "      <td>NaN</td>\n",
       "      <td>...</td>\n",
       "      <td>NaN</td>\n",
       "      <td>NaN</td>\n",
       "      <td>NaN</td>\n",
       "      <td>NaN</td>\n",
       "      <td>NaN</td>\n",
       "      <td>NaN</td>\n",
       "      <td>NaN</td>\n",
       "      <td>NaN</td>\n",
       "      <td>NaN</td>\n",
       "      <td>NaN</td>\n",
       "    </tr>\n",
       "    <tr>\n",
       "      <th>1</th>\n",
       "      <td>199810</td>\n",
       "      <td>158436.0</td>\n",
       "      <td>50.0</td>\n",
       "      <td>121272.0</td>\n",
       "      <td>48050.0</td>\n",
       "      <td>214110.0</td>\n",
       "      <td>181006.0</td>\n",
       "      <td>NaN</td>\n",
       "      <td>NaN</td>\n",
       "      <td>NaN</td>\n",
       "      <td>...</td>\n",
       "      <td>NaN</td>\n",
       "      <td>NaN</td>\n",
       "      <td>NaN</td>\n",
       "      <td>NaN</td>\n",
       "      <td>NaN</td>\n",
       "      <td>NaN</td>\n",
       "      <td>NaN</td>\n",
       "      <td>NaN</td>\n",
       "      <td>NaN</td>\n",
       "      <td>70.0</td>\n",
       "    </tr>\n",
       "    <tr>\n",
       "      <th>2</th>\n",
       "      <td>199810</td>\n",
       "      <td>256008.0</td>\n",
       "      <td>70.0</td>\n",
       "      <td>56953.0</td>\n",
       "      <td>275191.0</td>\n",
       "      <td>158282.0</td>\n",
       "      <td>242383.0</td>\n",
       "      <td>207648.0</td>\n",
       "      <td>NaN</td>\n",
       "      <td>NaN</td>\n",
       "      <td>...</td>\n",
       "      <td>NaN</td>\n",
       "      <td>NaN</td>\n",
       "      <td>NaN</td>\n",
       "      <td>NaN</td>\n",
       "      <td>NaN</td>\n",
       "      <td>NaN</td>\n",
       "      <td>NaN</td>\n",
       "      <td>NaN</td>\n",
       "      <td>NaN</td>\n",
       "      <td>50.0</td>\n",
       "    </tr>\n",
       "    <tr>\n",
       "      <th>3</th>\n",
       "      <td>199810</td>\n",
       "      <td>234891.0</td>\n",
       "      <td>70.0</td>\n",
       "      <td>18215.0</td>\n",
       "      <td>257019.0</td>\n",
       "      <td>131552.0</td>\n",
       "      <td>47898.0</td>\n",
       "      <td>201738.0</td>\n",
       "      <td>88853.0</td>\n",
       "      <td>NaN</td>\n",
       "      <td>...</td>\n",
       "      <td>NaN</td>\n",
       "      <td>NaN</td>\n",
       "      <td>NaN</td>\n",
       "      <td>NaN</td>\n",
       "      <td>NaN</td>\n",
       "      <td>NaN</td>\n",
       "      <td>NaN</td>\n",
       "      <td>NaN</td>\n",
       "      <td>NaN</td>\n",
       "      <td>90.0</td>\n",
       "    </tr>\n",
       "    <tr>\n",
       "      <th>4</th>\n",
       "      <td>199810</td>\n",
       "      <td>265026.0</td>\n",
       "      <td>70.0</td>\n",
       "      <td>252707.0</td>\n",
       "      <td>257019.0</td>\n",
       "      <td>131552.0</td>\n",
       "      <td>201738.0</td>\n",
       "      <td>88853.0</td>\n",
       "      <td>NaN</td>\n",
       "      <td>NaN</td>\n",
       "      <td>...</td>\n",
       "      <td>NaN</td>\n",
       "      <td>NaN</td>\n",
       "      <td>NaN</td>\n",
       "      <td>NaN</td>\n",
       "      <td>NaN</td>\n",
       "      <td>NaN</td>\n",
       "      <td>NaN</td>\n",
       "      <td>NaN</td>\n",
       "      <td>NaN</td>\n",
       "      <td>90.0</td>\n",
       "    </tr>\n",
       "  </tbody>\n",
       "</table>\n",
       "<p>5 rows × 28 columns</p>\n",
       "</div>"
      ],
      "text/plain": [
       "   userId   trackId  track_rating   albumId  artistId  genreId_1  genreId_2  \\\n",
       "0  199810   47420.0          90.0  190891.0   22907.0   243099.0        NaN   \n",
       "1  199810  158436.0          50.0  121272.0   48050.0   214110.0   181006.0   \n",
       "2  199810  256008.0          70.0   56953.0  275191.0   158282.0   242383.0   \n",
       "3  199810  234891.0          70.0   18215.0  257019.0   131552.0    47898.0   \n",
       "4  199810  265026.0          70.0  252707.0  257019.0   131552.0   201738.0   \n",
       "\n",
       "   genreId_3  genreId_4  genreId_5  ...  genreId_14  genreId_15  genreId_16  \\\n",
       "0        NaN        NaN        NaN  ...         NaN         NaN         NaN   \n",
       "1        NaN        NaN        NaN  ...         NaN         NaN         NaN   \n",
       "2   207648.0        NaN        NaN  ...         NaN         NaN         NaN   \n",
       "3   201738.0    88853.0        NaN  ...         NaN         NaN         NaN   \n",
       "4    88853.0        NaN        NaN  ...         NaN         NaN         NaN   \n",
       "\n",
       "   genreId_17  genreId_18  genreId_19  genreId_20  genreId_21  album_rating  \\\n",
       "0         NaN         NaN         NaN         NaN         NaN           NaN   \n",
       "1         NaN         NaN         NaN         NaN         NaN           NaN   \n",
       "2         NaN         NaN         NaN         NaN         NaN           NaN   \n",
       "3         NaN         NaN         NaN         NaN         NaN           NaN   \n",
       "4         NaN         NaN         NaN         NaN         NaN           NaN   \n",
       "\n",
       "   artist_rating  \n",
       "0            NaN  \n",
       "1           70.0  \n",
       "2           50.0  \n",
       "3           90.0  \n",
       "4           90.0  \n",
       "\n",
       "[5 rows x 28 columns]"
      ]
     },
     "execution_count": 27,
     "metadata": {},
     "output_type": "execute_result"
    }
   ],
   "source": [
    "final.head()"
   ]
  },
  {
   "cell_type": "markdown",
   "metadata": {},
   "source": [
    "## Remove columns that have an `Nan` value for trackId since the test set only consists of trackIds"
   ]
  },
  {
   "cell_type": "code",
   "execution_count": 28,
   "metadata": {},
   "outputs": [],
   "source": [
    "final = final.dropna(subset=['trackId'])"
   ]
  },
  {
   "cell_type": "code",
   "execution_count": 163,
   "metadata": {},
   "outputs": [],
   "source": [
    "## Save final as csv\n",
    "final.to_csv('train_with_empty.csv', index=False, na_rep='None', columns=['userId', 'trackId', 'albumId', 'artistId', 'genreId_1', 'genreId_2', 'genreId_3', 'genreId_4', 'genreId_5', 'genreId_6', 'genreId_7', 'genreId_8', 'genreId_9', 'genreId_10', 'genreId_11', 'genreId_12', 'genreId_13', 'genreId_14', 'genreId_15', 'genreId_16', 'genreId_17', 'genreId_18', 'genreId_19', 'genreId_20', 'genreId_21'])"
   ]
  },
  {
   "cell_type": "code",
   "execution_count": 190,
   "metadata": {},
   "outputs": [],
   "source": [
    "empty_album_ratings = final[final.album_rating.isna()]\n",
    "empty_album_ratings = empty_album_ratings.dropna(subset=['albumId'])\n",
    "empty_album_ratings.head()\n",
    "\n",
    "empty_album_ratings[['userId', 'trackId', 'albumId']].to_csv('empty_album_ratings.csv', index=False)"
   ]
  },
  {
   "cell_type": "code",
   "execution_count": 210,
   "metadata": {},
   "outputs": [],
   "source": [
    "empty_artist_ratings = final[final.artist_rating.isna()]\n",
    "empty_artist_ratings = empty_artist_ratings.dropna(subset=['albumId'])\n",
    "empty_artist_ratings.head()\n",
    "\n",
    "empty_artist_ratings[['userId', 'trackId', 'artistId']].to_csv('empty_artist_ratings.csv', index=False)"
   ]
  },
  {
   "cell_type": "markdown",
   "metadata": {},
   "source": [
    "## Make predictions on the empty values"
   ]
  },
  {
   "cell_type": "code",
   "execution_count": 222,
   "metadata": {},
   "outputs": [],
   "source": [
    "albums = spark.read.csv('empty_album_ratings.csv', sep=',', header=True)\n",
    "artists = spark.read.csv('empty_artist_ratings.csv', sep=',', header=True)"
   ]
  },
  {
   "cell_type": "code",
   "execution_count": 223,
   "metadata": {},
   "outputs": [
    {
     "name": "stdout",
     "output_type": "stream",
     "text": [
      "root\n",
      " |-- userId: string (nullable = true)\n",
      " |-- trackId: string (nullable = true)\n",
      " |-- albumId: string (nullable = true)\n",
      "\n"
     ]
    }
   ],
   "source": [
    "albums.printSchema()"
   ]
  },
  {
   "cell_type": "code",
   "execution_count": 224,
   "metadata": {},
   "outputs": [
    {
     "name": "stdout",
     "output_type": "stream",
     "text": [
      "root\n",
      " |-- userId: string (nullable = true)\n",
      " |-- trackId: string (nullable = true)\n",
      " |-- artistId: string (nullable = true)\n",
      "\n"
     ]
    }
   ],
   "source": [
    "artists.printSchema()"
   ]
  },
  {
   "cell_type": "code",
   "execution_count": 225,
   "metadata": {},
   "outputs": [],
   "source": [
    "albums = albums.withColumn('userId', albums['userId'].cast(IntegerType()))\n",
    "albums = albums.withColumn('trackId', albums['trackId'].cast(IntegerType()))\n",
    "albums = albums.withColumn('albumId', albums['albumId'].cast(IntegerType()))\n",
    "\n",
    "artists = artists.withColumn('userId', artists['userId'].cast(IntegerType()))\n",
    "artists = artists.withColumn('trackId', artists['trackId'].cast(IntegerType()))\n",
    "artists = artists.withColumn('artistId', artists['artistId'].cast(IntegerType()))"
   ]
  },
  {
   "cell_type": "code",
   "execution_count": 226,
   "metadata": {},
   "outputs": [
    {
     "name": "stdout",
     "output_type": "stream",
     "text": [
      "root\n",
      " |-- userId: integer (nullable = true)\n",
      " |-- trackId: integer (nullable = true)\n",
      " |-- albumId: integer (nullable = true)\n",
      "\n"
     ]
    }
   ],
   "source": [
    "albums.printSchema()"
   ]
  },
  {
   "cell_type": "code",
   "execution_count": 227,
   "metadata": {},
   "outputs": [
    {
     "name": "stdout",
     "output_type": "stream",
     "text": [
      "root\n",
      " |-- userId: integer (nullable = true)\n",
      " |-- trackId: integer (nullable = true)\n",
      " |-- artistId: integer (nullable = true)\n",
      "\n"
     ]
    }
   ],
   "source": [
    "artists.printSchema()"
   ]
  },
  {
   "cell_type": "code",
   "execution_count": 230,
   "metadata": {},
   "outputs": [],
   "source": [
    "prediction_album_train = model.transform(albums.filter('albumId IS NOT NULL').withColumnRenamed('albumId', 'itemId')).withColumnRenamed('itemId', 'albumId').withColumnRenamed('prediction', 'album_rating')\n",
    "prediction_artists_train = model.transform(artists.filter('artistId IS NOT NULL').withColumnRenamed('artistId', 'itemId')).withColumnRenamed('itemId', 'artistId').withColumnRenamed('prediction', 'artist_rating')\n",
    "\n",
    "prediction_album_train.coalesce(1).write.csv('predicted_albums.csv', header=True)\n",
    "prediction_artists_train.coalesce(1).write.csv('predicted_artists.csv', header=True)"
   ]
  },
  {
   "cell_type": "markdown",
   "metadata": {},
   "source": [
    "## Find num genres"
   ]
  },
  {
   "cell_type": "code",
   "execution_count": 171,
   "metadata": {},
   "outputs": [],
   "source": [
    "final2 = spark.read.csv('train_with_empty.csv',\n",
    "                     sep=',',\n",
    "                     nullValue='None',\n",
    "                     header=True)"
   ]
  },
  {
   "cell_type": "code",
   "execution_count": 172,
   "metadata": {},
   "outputs": [
    {
     "name": "stdout",
     "output_type": "stream",
     "text": [
      "+------+--------+--------+--------+---------+---------+---------+---------+---------+---------+---------+---------+---------+----------+----------+----------+----------+----------+----------+----------+----------+----------+----------+----------+----------+\n",
      "|userId| trackId| albumId|artistId|genreId_1|genreId_2|genreId_3|genreId_4|genreId_5|genreId_6|genreId_7|genreId_8|genreId_9|genreId_10|genreId_11|genreId_12|genreId_13|genreId_14|genreId_15|genreId_16|genreId_17|genreId_18|genreId_19|genreId_20|genreId_21|\n",
      "+------+--------+--------+--------+---------+---------+---------+---------+---------+---------+---------+---------+---------+----------+----------+----------+----------+----------+----------+----------+----------+----------+----------+----------+----------+\n",
      "|199810| 47420.0|190891.0| 22907.0| 243099.0|     null|     null|     null|     null|     null|     null|     null|     null|      null|      null|      null|      null|      null|      null|      null|      null|      null|      null|      null|      null|\n",
      "|199810|158436.0|121272.0| 48050.0| 214110.0| 181006.0|     null|     null|     null|     null|     null|     null|     null|      null|      null|      null|      null|      null|      null|      null|      null|      null|      null|      null|      null|\n",
      "|199810|256008.0| 56953.0|275191.0| 158282.0| 242383.0| 207648.0|     null|     null|     null|     null|     null|     null|      null|      null|      null|      null|      null|      null|      null|      null|      null|      null|      null|      null|\n",
      "|199810|234891.0| 18215.0|257019.0| 131552.0|  47898.0| 201738.0|  88853.0|     null|     null|     null|     null|     null|      null|      null|      null|      null|      null|      null|      null|      null|      null|      null|      null|      null|\n",
      "|199810|265026.0|252707.0|257019.0| 131552.0| 201738.0|  88853.0|     null|     null|     null|     null|     null|     null|      null|      null|      null|      null|      null|      null|      null|      null|      null|      null|      null|      null|\n",
      "+------+--------+--------+--------+---------+---------+---------+---------+---------+---------+---------+---------+---------+----------+----------+----------+----------+----------+----------+----------+----------+----------+----------+----------+----------+\n",
      "only showing top 5 rows\n",
      "\n"
     ]
    }
   ],
   "source": [
    "final2.show(5)"
   ]
  },
  {
   "cell_type": "code",
   "execution_count": 173,
   "metadata": {},
   "outputs": [],
   "source": [
    "final_genres = final2.select('userId', \n",
    "                          'trackId', \n",
    "                          'genreId_1', \n",
    "                          'genreId_2', \n",
    "                          'genreId_3', \n",
    "                          'genreId_4', \n",
    "                          'genreId_5', \n",
    "                          'genreId_6', \n",
    "                          'genreId_7', \n",
    "                          'genreId_8', \n",
    "                          'genreId_9', \n",
    "                          'genreId_10', \n",
    "                          'genreId_11', \n",
    "                          'genreId_12', \n",
    "                          'genreId_13', \n",
    "                          'genreId_14',\n",
    "                          'genreId_15',\n",
    "                          'genreId_16',\n",
    "                          'genreId_17',\n",
    "                          'genreId_18',\n",
    "                          'genreId_19',\n",
    "                          'genreId_20',\n",
    "                          'genreId_21')"
   ]
  },
  {
   "cell_type": "code",
   "execution_count": 174,
   "metadata": {},
   "outputs": [],
   "source": [
    "final_num_genres = final_genres.select('userId', 'trackId', sum([isnull(final_genres[col]).cast(IntegerType()) for col in final_genres.columns]).alias('num_genres'))"
   ]
  },
  {
   "cell_type": "code",
   "execution_count": 182,
   "metadata": {},
   "outputs": [
    {
     "name": "stdout",
     "output_type": "stream",
     "text": [
      "+------+--------+----------+\n",
      "|userId| trackId|num_genres|\n",
      "+------+--------+----------+\n",
      "|199810| 47420.0|        20|\n",
      "|199810|158436.0|        19|\n",
      "|199810|256008.0|        18|\n",
      "|199810|234891.0|        17|\n",
      "|199810|265026.0|        18|\n",
      "+------+--------+----------+\n",
      "only showing top 5 rows\n",
      "\n"
     ]
    }
   ],
   "source": [
    "final_num_genres.show(5)\n",
    "\n",
    "final_num_genres.coalesce(1).write.csv('train_num_genres.csv', header=True)"
   ]
  },
  {
   "cell_type": "code",
   "execution_count": 29,
   "metadata": {},
   "outputs": [],
   "source": [
    "predicted_artists = pd.read_csv('TrainPredictions/predicted_artists.csv')\n",
    "predicted_albums = pd.read_csv('TrainPredictions/predicted_albums.csv')\n",
    "num_genres_df = pd.read_csv('TrainPredictions/train_num_genres.csv')"
   ]
  },
  {
   "cell_type": "code",
   "execution_count": 94,
   "metadata": {},
   "outputs": [],
   "source": [
    "predicted_artists = predicted_artists.set_index(['userId', 'trackId'])"
   ]
  },
  {
   "cell_type": "code",
   "execution_count": 95,
   "metadata": {},
   "outputs": [],
   "source": [
    "predicted_albums = predicted_albums.set_index(['userId', 'trackId'])"
   ]
  },
  {
   "cell_type": "code",
   "execution_count": 96,
   "metadata": {},
   "outputs": [],
   "source": [
    "num_genred_df = num_genres_df.set_index(['userId', 'trackId'])"
   ]
  },
  {
   "cell_type": "code",
   "execution_count": 97,
   "metadata": {},
   "outputs": [
    {
     "data": {
      "text/html": [
       "<div>\n",
       "<style scoped>\n",
       "    .dataframe tbody tr th:only-of-type {\n",
       "        vertical-align: middle;\n",
       "    }\n",
       "\n",
       "    .dataframe tbody tr th {\n",
       "        vertical-align: top;\n",
       "    }\n",
       "\n",
       "    .dataframe thead th {\n",
       "        text-align: right;\n",
       "    }\n",
       "</style>\n",
       "<table border=\"1\" class=\"dataframe\">\n",
       "  <thead>\n",
       "    <tr style=\"text-align: right;\">\n",
       "      <th></th>\n",
       "      <th></th>\n",
       "      <th>track_rating</th>\n",
       "      <th>album_rating</th>\n",
       "      <th>artist_rating</th>\n",
       "    </tr>\n",
       "    <tr>\n",
       "      <th>userId</th>\n",
       "      <th>trackId</th>\n",
       "      <th></th>\n",
       "      <th></th>\n",
       "      <th></th>\n",
       "    </tr>\n",
       "  </thead>\n",
       "  <tbody>\n",
       "    <tr>\n",
       "      <th rowspan=\"5\" valign=\"top\">199810</th>\n",
       "      <th>47420.0</th>\n",
       "      <td>90.0</td>\n",
       "      <td>NaN</td>\n",
       "      <td>NaN</td>\n",
       "    </tr>\n",
       "    <tr>\n",
       "      <th>158436.0</th>\n",
       "      <td>50.0</td>\n",
       "      <td>NaN</td>\n",
       "      <td>70.0</td>\n",
       "    </tr>\n",
       "    <tr>\n",
       "      <th>256008.0</th>\n",
       "      <td>70.0</td>\n",
       "      <td>NaN</td>\n",
       "      <td>50.0</td>\n",
       "    </tr>\n",
       "    <tr>\n",
       "      <th>234891.0</th>\n",
       "      <td>70.0</td>\n",
       "      <td>NaN</td>\n",
       "      <td>90.0</td>\n",
       "    </tr>\n",
       "    <tr>\n",
       "      <th>265026.0</th>\n",
       "      <td>70.0</td>\n",
       "      <td>NaN</td>\n",
       "      <td>90.0</td>\n",
       "    </tr>\n",
       "  </tbody>\n",
       "</table>\n",
       "</div>"
      ],
      "text/plain": [
       "                 track_rating  album_rating  artist_rating\n",
       "userId trackId                                            \n",
       "199810 47420.0           90.0           NaN            NaN\n",
       "       158436.0          50.0           NaN           70.0\n",
       "       256008.0          70.0           NaN           50.0\n",
       "       234891.0          70.0           NaN           90.0\n",
       "       265026.0          70.0           NaN           90.0"
      ]
     },
     "execution_count": 97,
     "metadata": {},
     "output_type": "execute_result"
    }
   ],
   "source": [
    "final = final[['userId', 'trackId', 'track_rating', 'album_rating', 'artist_rating']].set_index(['userId', 'trackId'])\n",
    "final.head()"
   ]
  },
  {
   "cell_type": "code",
   "execution_count": 100,
   "metadata": {},
   "outputs": [],
   "source": [
    "final['artist_rating'] = final['artist_rating'].fillna(predicted_artists['artist_rating'])"
   ]
  },
  {
   "cell_type": "code",
   "execution_count": 101,
   "metadata": {},
   "outputs": [],
   "source": [
    "final['album_rating'] = final['album_rating'].fillna(predicted_albums['album_rating'])"
   ]
  },
  {
   "cell_type": "code",
   "execution_count": 102,
   "metadata": {},
   "outputs": [],
   "source": [
    "final['num_genres'] = num_genred_df['num_genres']"
   ]
  },
  {
   "cell_type": "code",
   "execution_count": 103,
   "metadata": {},
   "outputs": [
    {
     "data": {
      "text/html": [
       "<div>\n",
       "<style scoped>\n",
       "    .dataframe tbody tr th:only-of-type {\n",
       "        vertical-align: middle;\n",
       "    }\n",
       "\n",
       "    .dataframe tbody tr th {\n",
       "        vertical-align: top;\n",
       "    }\n",
       "\n",
       "    .dataframe thead th {\n",
       "        text-align: right;\n",
       "    }\n",
       "</style>\n",
       "<table border=\"1\" class=\"dataframe\">\n",
       "  <thead>\n",
       "    <tr style=\"text-align: right;\">\n",
       "      <th></th>\n",
       "      <th></th>\n",
       "      <th>track_rating</th>\n",
       "      <th>album_rating</th>\n",
       "      <th>artist_rating</th>\n",
       "      <th>num_genres</th>\n",
       "    </tr>\n",
       "    <tr>\n",
       "      <th>userId</th>\n",
       "      <th>trackId</th>\n",
       "      <th></th>\n",
       "      <th></th>\n",
       "      <th></th>\n",
       "      <th></th>\n",
       "    </tr>\n",
       "  </thead>\n",
       "  <tbody>\n",
       "    <tr>\n",
       "      <th rowspan=\"5\" valign=\"top\">199810</th>\n",
       "      <th>47420.0</th>\n",
       "      <td>90.0</td>\n",
       "      <td>53.398773</td>\n",
       "      <td>50.37487</td>\n",
       "      <td>20</td>\n",
       "    </tr>\n",
       "    <tr>\n",
       "      <th>158436.0</th>\n",
       "      <td>50.0</td>\n",
       "      <td>57.158050</td>\n",
       "      <td>70.00000</td>\n",
       "      <td>19</td>\n",
       "    </tr>\n",
       "    <tr>\n",
       "      <th>256008.0</th>\n",
       "      <td>70.0</td>\n",
       "      <td>69.713486</td>\n",
       "      <td>50.00000</td>\n",
       "      <td>18</td>\n",
       "    </tr>\n",
       "    <tr>\n",
       "      <th>234891.0</th>\n",
       "      <td>70.0</td>\n",
       "      <td>53.166330</td>\n",
       "      <td>90.00000</td>\n",
       "      <td>17</td>\n",
       "    </tr>\n",
       "    <tr>\n",
       "      <th>265026.0</th>\n",
       "      <td>70.0</td>\n",
       "      <td>54.305294</td>\n",
       "      <td>90.00000</td>\n",
       "      <td>18</td>\n",
       "    </tr>\n",
       "  </tbody>\n",
       "</table>\n",
       "</div>"
      ],
      "text/plain": [
       "                 track_rating  album_rating  artist_rating  num_genres\n",
       "userId trackId                                                        \n",
       "199810 47420.0           90.0     53.398773       50.37487          20\n",
       "       158436.0          50.0     57.158050       70.00000          19\n",
       "       256008.0          70.0     69.713486       50.00000          18\n",
       "       234891.0          70.0     53.166330       90.00000          17\n",
       "       265026.0          70.0     54.305294       90.00000          18"
      ]
     },
     "execution_count": 103,
     "metadata": {},
     "output_type": "execute_result"
    }
   ],
   "source": [
    "final.head()"
   ]
  },
  {
   "cell_type": "code",
   "execution_count": 104,
   "metadata": {},
   "outputs": [
    {
     "data": {
      "text/plain": [
       "track_rating          0\n",
       "album_rating     506376\n",
       "artist_rating    585125\n",
       "num_genres            0\n",
       "dtype: int64"
      ]
     },
     "execution_count": 104,
     "metadata": {},
     "output_type": "execute_result"
    }
   ],
   "source": [
    "final.isna().sum()"
   ]
  },
  {
   "cell_type": "code",
   "execution_count": 108,
   "metadata": {},
   "outputs": [],
   "source": [
    "final = final.fillna(0)"
   ]
  },
  {
   "cell_type": "code",
   "execution_count": 109,
   "metadata": {},
   "outputs": [
    {
     "data": {
      "text/plain": [
       "track_rating     0\n",
       "album_rating     0\n",
       "artist_rating    0\n",
       "num_genres       0\n",
       "dtype: int64"
      ]
     },
     "execution_count": 109,
     "metadata": {},
     "output_type": "execute_result"
    }
   ],
   "source": [
    "final.isna().sum()"
   ]
  },
  {
   "cell_type": "code",
   "execution_count": 110,
   "metadata": {},
   "outputs": [],
   "source": [
    "final.to_csv('finalTrainset.csv')"
   ]
  },
  {
   "cell_type": "code",
   "execution_count": null,
   "metadata": {},
   "outputs": [],
   "source": []
  }
 ],
 "metadata": {
  "kernelspec": {
   "display_name": "Python 3",
   "language": "python",
   "name": "python3"
  },
  "language_info": {
   "codemirror_mode": {
    "name": "ipython",
    "version": 3
   },
   "file_extension": ".py",
   "mimetype": "text/x-python",
   "name": "python",
   "nbconvert_exporter": "python",
   "pygments_lexer": "ipython3",
   "version": "3.6.11"
  },
  "varInspector": {
   "cols": {
    "lenName": 16,
    "lenType": 16,
    "lenVar": 40
   },
   "kernels_config": {
    "python": {
     "delete_cmd_postfix": "",
     "delete_cmd_prefix": "del ",
     "library": "var_list.py",
     "varRefreshCmd": "print(var_dic_list())"
    },
    "r": {
     "delete_cmd_postfix": ") ",
     "delete_cmd_prefix": "rm(",
     "library": "var_list.r",
     "varRefreshCmd": "cat(var_dic_list()) "
    }
   },
   "types_to_exclude": [
    "module",
    "function",
    "builtin_function_or_method",
    "instance",
    "_Feature"
   ],
   "window_display": false
  }
 },
 "nbformat": 4,
 "nbformat_minor": 4
}
