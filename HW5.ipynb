{
 "cells": [
  {
   "cell_type": "markdown",
   "metadata": {},
   "source": [
    "Importing all of the data into dataframes"
   ]
  },
  {
   "cell_type": "code",
   "execution_count": 1,
   "metadata": {},
   "outputs": [],
   "source": [
    "import pandas as pd"
   ]
  },
  {
   "cell_type": "code",
   "execution_count": 80,
   "metadata": {},
   "outputs": [
    {
     "name": "stdout",
     "output_type": "stream",
     "text": [
      "       AlbumID  ArtistID  GenreID_1  GenreID_2  GenreID_3  GenreID_4  \\\n",
      "0            0       NaN   214765.0        NaN        NaN        NaN   \n",
      "1            6  228091.0   158282.0    81520.0   242383.0        NaN   \n",
      "2           19   85028.0   103715.0        NaN        NaN        NaN   \n",
      "3           30   16832.0    31567.0        NaN        NaN        NaN   \n",
      "4           33   26330.0   149962.0   209270.0        NaN        NaN   \n",
      "...        ...       ...        ...        ...        ...        ...   \n",
      "52824   296104  125866.0   158282.0        NaN        NaN        NaN   \n",
      "52825   296106  221637.0   116130.0     9432.0        NaN        NaN   \n",
      "52826   296107       NaN    61215.0        NaN        NaN        NaN   \n",
      "52827   296108   93277.0    61215.0        NaN        NaN        NaN   \n",
      "52828   296109   84885.0   287681.0        NaN        NaN        NaN   \n",
      "\n",
      "       GenreID_5  GenreID_6  GenreID_7  GenreID_8  ...  GenreID_12  \\\n",
      "0            NaN        NaN        NaN        NaN  ...         NaN   \n",
      "1            NaN        NaN        NaN        NaN  ...         NaN   \n",
      "2            NaN        NaN        NaN        NaN  ...         NaN   \n",
      "3            NaN        NaN        NaN        NaN  ...         NaN   \n",
      "4            NaN        NaN        NaN        NaN  ...         NaN   \n",
      "...          ...        ...        ...        ...  ...         ...   \n",
      "52824        NaN        NaN        NaN        NaN  ...         NaN   \n",
      "52825        NaN        NaN        NaN        NaN  ...         NaN   \n",
      "52826        NaN        NaN        NaN        NaN  ...         NaN   \n",
      "52827        NaN        NaN        NaN        NaN  ...         NaN   \n",
      "52828        NaN        NaN        NaN        NaN  ...         NaN   \n",
      "\n",
      "       GenreID_13  GenreID_14  GenreID_15  GenreID_16  GenreID_17  GenreID_18  \\\n",
      "0             NaN         NaN         NaN         NaN         NaN         NaN   \n",
      "1             NaN         NaN         NaN         NaN         NaN         NaN   \n",
      "2             NaN         NaN         NaN         NaN         NaN         NaN   \n",
      "3             NaN         NaN         NaN         NaN         NaN         NaN   \n",
      "4             NaN         NaN         NaN         NaN         NaN         NaN   \n",
      "...           ...         ...         ...         ...         ...         ...   \n",
      "52824         NaN         NaN         NaN         NaN         NaN         NaN   \n",
      "52825         NaN         NaN         NaN         NaN         NaN         NaN   \n",
      "52826         NaN         NaN         NaN         NaN         NaN         NaN   \n",
      "52827         NaN         NaN         NaN         NaN         NaN         NaN   \n",
      "52828         NaN         NaN         NaN         NaN         NaN         NaN   \n",
      "\n",
      "       GenreID_19  GenreID_20  GenreID_21  \n",
      "0             NaN         NaN         NaN  \n",
      "1             NaN         NaN         NaN  \n",
      "2             NaN         NaN         NaN  \n",
      "3             NaN         NaN         NaN  \n",
      "4             NaN         NaN         NaN  \n",
      "...           ...         ...         ...  \n",
      "52824         NaN         NaN         NaN  \n",
      "52825         NaN         NaN         NaN  \n",
      "52826         NaN         NaN         NaN  \n",
      "52827         NaN         NaN         NaN  \n",
      "52828         NaN         NaN         NaN  \n",
      "\n",
      "[52829 rows x 23 columns]\n"
     ]
    }
   ],
   "source": [
    "albumCols = ['AlbumID', 'ArtistID', 'GenreID_1', 'GenreID_2', 'GenreID_3', 'GenreID_4', 'GenreID_5', 'GenreID_6', 'GenreID_7', 'GenreID_8', 'GenreID_9', 'GenreID_10', 'GenreID_11', 'GenreID_12', 'GenreID_13', 'GenreID_14', 'GenreID_15', 'GenreID_16', 'GenreID_17', 'GenreID_18', 'GenreID_19', 'GenreID_20', 'GenreID_21']\n",
    "\n",
    "albumData = pd.read_csv('./ee627ws-2020fall/albumData2.txt', \n",
    "                        sep='|',\n",
    "                        names=albumCols,\n",
    "                        engine='python', \n",
    "                        na_values=['None'],\n",
    "                        header=None)\n",
    "print(albumData)"
   ]
  },
  {
   "cell_type": "code",
   "execution_count": 81,
   "metadata": {},
   "outputs": [
    {
     "name": "stdout",
     "output_type": "stream",
     "text": [
      "       ArtistID\n",
      "0            16\n",
      "1            23\n",
      "2            35\n",
      "3            40\n",
      "4            49\n",
      "...         ...\n",
      "18669    295987\n",
      "18670    296007\n",
      "18671    296012\n",
      "18672    296013\n",
      "18673    296041\n",
      "\n",
      "[18674 rows x 1 columns]\n"
     ]
    }
   ],
   "source": [
    "artistCols = ['ArtistID']\n",
    "artistData = pd.read_csv('./ee627ws-2020fall/artistData2.txt',\n",
    "                         names=artistCols, \n",
    "                         engine='python')\n",
    "print(artistData)"
   ]
  },
  {
   "cell_type": "code",
   "execution_count": 82,
   "metadata": {},
   "outputs": [
    {
     "name": "stdout",
     "output_type": "stream",
     "text": [
      "     GenreID\n",
      "0        208\n",
      "1        315\n",
      "2        642\n",
      "3       1075\n",
      "4       1271\n",
      "..       ...\n",
      "562   292093\n",
      "563   293670\n",
      "564   293688\n",
      "565   294138\n",
      "566   294310\n",
      "\n",
      "[567 rows x 1 columns]\n"
     ]
    }
   ],
   "source": [
    "genreCols = ['GenreID']\n",
    "genreData = pd.read_csv('./ee627ws-2020fall/genreData2.txt',\n",
    "                         names=genreCols, \n",
    "                         engine='python')\n",
    "print(genreData)"
   ]
  },
  {
   "cell_type": "code",
   "execution_count": 83,
   "metadata": {},
   "outputs": [
    {
     "name": "stdout",
     "output_type": "stream",
     "text": [
      "        TrackID   AlbumID  ArtistID  GenreID_1  GenreID_2  GenreID_3  \\\n",
      "0             1  106710.0  281667.0   214765.0   162234.0   155788.0   \n",
      "1             2  280977.0  233685.0   131552.0   173467.0    48505.0   \n",
      "2             3   38422.0  219136.0    61215.0   201738.0    88853.0   \n",
      "3             4  119529.0  166863.0    17453.0    35389.0        NaN   \n",
      "4             5   16742.0  294690.0    61215.0    34486.0   274088.0   \n",
      "...         ...       ...       ...        ...        ...        ...   \n",
      "224036   296100  166516.0   33011.0   274088.0   199606.0    88853.0   \n",
      "224037   296101       NaN       NaN        NaN        NaN        NaN   \n",
      "224038   296102  153644.0  289056.0   158282.0   139095.0   242383.0   \n",
      "224039   296105   68336.0    6613.0    82064.0        NaN        NaN   \n",
      "224040   296110  281202.0  140302.0    61215.0        NaN        NaN   \n",
      "\n",
      "        GenreID_4  GenreID_5  GenreID_6  GenreID_7  ...  GenreID_12  \\\n",
      "0             NaN        NaN        NaN        NaN  ...         NaN   \n",
      "1             NaN        NaN        NaN        NaN  ...         NaN   \n",
      "2             NaN        NaN        NaN        NaN  ...         NaN   \n",
      "3             NaN        NaN        NaN        NaN  ...         NaN   \n",
      "4             NaN        NaN        NaN        NaN  ...         NaN   \n",
      "...           ...        ...        ...        ...  ...         ...   \n",
      "224036        NaN        NaN        NaN        NaN  ...         NaN   \n",
      "224037        NaN        NaN        NaN        NaN  ...         NaN   \n",
      "224038        NaN        NaN        NaN        NaN  ...         NaN   \n",
      "224039        NaN        NaN        NaN        NaN  ...         NaN   \n",
      "224040        NaN        NaN        NaN        NaN  ...         NaN   \n",
      "\n",
      "        GenreID_13  GenreID_14  GenreID_15  GenreID_16  GenreID_17  \\\n",
      "0              NaN         NaN         NaN         NaN         NaN   \n",
      "1              NaN         NaN         NaN         NaN         NaN   \n",
      "2              NaN         NaN         NaN         NaN         NaN   \n",
      "3              NaN         NaN         NaN         NaN         NaN   \n",
      "4              NaN         NaN         NaN         NaN         NaN   \n",
      "...            ...         ...         ...         ...         ...   \n",
      "224036         NaN         NaN         NaN         NaN         NaN   \n",
      "224037         NaN         NaN         NaN         NaN         NaN   \n",
      "224038         NaN         NaN         NaN         NaN         NaN   \n",
      "224039         NaN         NaN         NaN         NaN         NaN   \n",
      "224040         NaN         NaN         NaN         NaN         NaN   \n",
      "\n",
      "        GenreID_18  GenreID_19  GenreID_20  GenreID_21  \n",
      "0              NaN         NaN         NaN         NaN  \n",
      "1              NaN         NaN         NaN         NaN  \n",
      "2              NaN         NaN         NaN         NaN  \n",
      "3              NaN         NaN         NaN         NaN  \n",
      "4              NaN         NaN         NaN         NaN  \n",
      "...            ...         ...         ...         ...  \n",
      "224036         NaN         NaN         NaN         NaN  \n",
      "224037         NaN         NaN         NaN         NaN  \n",
      "224038         NaN         NaN         NaN         NaN  \n",
      "224039         NaN         NaN         NaN         NaN  \n",
      "224040         NaN         NaN         NaN         NaN  \n",
      "\n",
      "[224041 rows x 24 columns]\n"
     ]
    }
   ],
   "source": [
    "trackCols = ['TrackID', 'AlbumID', 'ArtistID', 'GenreID_1', 'GenreID_2', 'GenreID_3', 'GenreID_4', 'GenreID_5', 'GenreID_6', 'GenreID_7', 'GenreID_8', 'GenreID_9', 'GenreID_10', 'GenreID_11', 'GenreID_12', 'GenreID_13', 'GenreID_14', 'GenreID_15', 'GenreID_16', 'GenreID_17', 'GenreID_18', 'GenreID_19', 'GenreID_20', 'GenreID_21']\n",
    "trackData = pd.read_csv('./ee627ws-2020fall/trackData2.txt', \n",
    "                        sep='|',\n",
    "                        names=trackCols,\n",
    "                        engine='python', \n",
    "                        na_values=['None'],\n",
    "                        header=None)\n",
    "print(trackData)"
   ]
  },
  {
   "cell_type": "markdown",
   "metadata": {},
   "source": [
    "# Training Data: \n",
    "### 249,000 users\n",
    "### 296,000 items\n",
    "### 62M rating scores"
   ]
  },
  {
   "cell_type": "code",
   "execution_count": 88,
   "metadata": {},
   "outputs": [
    {
     "name": "stdout",
     "output_type": "stream",
     "text": [
      "          UserID  ItemID  Rating\n",
      "0         199808  248969      90\n",
      "1         199808    2663      90\n",
      "2         199808   28341      90\n",
      "3         199808   42563      90\n",
      "4         199808   59092      90\n",
      "...          ...     ...     ...\n",
      "12403570  249011  270557      90\n",
      "12403571  249011  273574      90\n",
      "12403572  249011  286938      90\n",
      "12403573  249011  287681      80\n",
      "12403574  249011  295381      90\n",
      "\n",
      "[12403575 rows x 3 columns]\n"
     ]
    }
   ],
   "source": [
    "trainCols = ['UserID','ItemID', 'Rating']\n",
    "trainData = pd.read_csv('./ee627ws-2020fall/trainIdx2_matrix.txt', \n",
    "                        sep='|',\n",
    "                        names=trainCols,\n",
    "                        engine='python', \n",
    "                        header=None)\n",
    "print(trainData)"
   ]
  },
  {
   "cell_type": "markdown",
   "metadata": {},
   "source": [
    "# Test Data: \n",
    "### 100,000 users, 6 tracks per user \n",
    "### The test users are in the training dataset"
   ]
  },
  {
   "cell_type": "code",
   "execution_count": 93,
   "metadata": {},
   "outputs": [
    {
     "name": "stdout",
     "output_type": "stream",
     "text": [
      "        UserID  TrackID   AlbumID  ArtistID  GenreID_1  GenreID_2  GenreID_3  \\\n",
      "0       199810   208019  209288.0       NaN        NaN        NaN        NaN   \n",
      "1       199810    74139  277282.0  271146.0   113360.0   173467.0   173655.0   \n",
      "2       199810     9903       NaN       NaN    33722.0   123396.0    79926.0   \n",
      "3       199810   242681  190640.0  244574.0    61215.0    17453.0   274088.0   \n",
      "4       199810    18515  146344.0   33168.0    19913.0    48505.0   154024.0   \n",
      "...        ...      ...       ...       ...        ...        ...        ...   \n",
      "119995  249010    72192  258175.0  258848.0    61215.0    17453.0   274088.0   \n",
      "119996  249010    86104   94638.0  252184.0    33204.0        NaN        NaN   \n",
      "119997  249010   186634  257363.0  190627.0   173467.0    48505.0        NaN   \n",
      "119998  249010   293818  289167.0  189054.0   189467.0        NaN        NaN   \n",
      "119999  249010   262811  205465.0  247050.0   173467.0    48505.0   133159.0   \n",
      "\n",
      "        GenreID_4  GenreID_5  GenreID_6  ...  GenreID_12  GenreID_13  \\\n",
      "0             NaN        NaN        NaN  ...         NaN         NaN   \n",
      "1        192976.0   146792.0    48505.0  ...         NaN         NaN   \n",
      "2         73523.0        NaN        NaN  ...         NaN         NaN   \n",
      "3             NaN        NaN        NaN  ...         NaN         NaN   \n",
      "4             NaN        NaN        NaN  ...         NaN         NaN   \n",
      "...           ...        ...        ...  ...         ...         ...   \n",
      "119995    88853.0        NaN        NaN  ...         NaN         NaN   \n",
      "119996        NaN        NaN        NaN  ...         NaN         NaN   \n",
      "119997        NaN        NaN        NaN  ...         NaN         NaN   \n",
      "119998        NaN        NaN        NaN  ...         NaN         NaN   \n",
      "119999        NaN        NaN        NaN  ...         NaN         NaN   \n",
      "\n",
      "        GenreID_14  GenreID_15  GenreID_16  GenreID_17  GenreID_18  \\\n",
      "0              NaN         NaN         NaN         NaN         NaN   \n",
      "1              NaN         NaN         NaN         NaN         NaN   \n",
      "2              NaN         NaN         NaN         NaN         NaN   \n",
      "3              NaN         NaN         NaN         NaN         NaN   \n",
      "4              NaN         NaN         NaN         NaN         NaN   \n",
      "...            ...         ...         ...         ...         ...   \n",
      "119995         NaN         NaN         NaN         NaN         NaN   \n",
      "119996         NaN         NaN         NaN         NaN         NaN   \n",
      "119997         NaN         NaN         NaN         NaN         NaN   \n",
      "119998         NaN         NaN         NaN         NaN         NaN   \n",
      "119999         NaN         NaN         NaN         NaN         NaN   \n",
      "\n",
      "        GenreID_19  GenreID_20  GenreID_21  \n",
      "0              NaN         NaN         NaN  \n",
      "1              NaN         NaN         NaN  \n",
      "2              NaN         NaN         NaN  \n",
      "3              NaN         NaN         NaN  \n",
      "4              NaN         NaN         NaN  \n",
      "...            ...         ...         ...  \n",
      "119995         NaN         NaN         NaN  \n",
      "119996         NaN         NaN         NaN  \n",
      "119997         NaN         NaN         NaN  \n",
      "119998         NaN         NaN         NaN  \n",
      "119999         NaN         NaN         NaN  \n",
      "\n",
      "[120000 rows x 25 columns]\n"
     ]
    }
   ],
   "source": [
    "testCols = ['UserID', 'TrackID', 'AlbumID', 'ArtistID', 'GenreID_1', 'GenreID_2', 'GenreID_3', 'GenreID_4', 'GenreID_5', 'GenreID_6', 'GenreID_7', 'GenreID_8', 'GenreID_9', 'GenreID_10', 'GenreID_11', 'GenreID_12', 'GenreID_13', 'GenreID_14', 'GenreID_15', 'GenreID_16', 'GenreID_17', 'GenreID_18', 'GenreID_19', 'GenreID_20', 'GenreID_21']\n",
    "testData = pd.read_csv('./ee627ws-2020fall/testTrack_hierarchy.txt', \n",
    "                        sep='|',\n",
    "                        names=testCols,\n",
    "                        engine='python', \n",
    "                        na_values=['None'],\n",
    "                        header=None)\n",
    "\n",
    "print(testData)"
   ]
  },
  {
   "cell_type": "code",
   "execution_count": null,
   "metadata": {},
   "outputs": [],
   "source": []
  }
 ],
 "metadata": {
  "kernelspec": {
   "display_name": "Python 3",
   "language": "python",
   "name": "python3"
  },
  "language_info": {
   "codemirror_mode": {
    "name": "ipython",
    "version": 3
   },
   "file_extension": ".py",
   "mimetype": "text/x-python",
   "name": "python",
   "nbconvert_exporter": "python",
   "pygments_lexer": "ipython3",
   "version": "3.8.3"
  }
 },
 "nbformat": 4,
 "nbformat_minor": 4
}
